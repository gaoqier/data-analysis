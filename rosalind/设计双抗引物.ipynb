{
 "cells": [
  {
   "cell_type": "markdown",
   "metadata": {},
   "source": [
    "# 参考序列\n",
    ">n501\n",
    "gaggtgcagctggtggagtctgggggaggcttggtacagcctggagggtccctgagactctcctgtgcagcctctgacttcaccttccgcagttatgaaatgagctgggtccgccaggctccagggaaggggctagagtgggtctcagctattagtggtagtggtggtagcacatactacgcagactcagtgaagggccgattcaccatctccagagacaattccaagaacacgctgtatctgcaaatgaacAGCctgagagccgaggacacagccatatattactgtgctaggcttagggatggcttcaataagggctttgactactggggccagggaaccctggtcaccgtctcctca\n",
    "\n",
    ">n113\n",
    "gaggtgcagctggtggagtctgggggaggcttggtacagcctggagggtccctgagactctcctgtgcagcctccgattcctctttctacgattatgaaatgagctgggtccgccaggttccagggaagaccccggagtggattgggagtatgtatcctagtgggcgcacctacatcaacccgtccctcaagagtctagtcaccatctccagagacaattccgagaacatgctgtatctgcaaatgaacagcctgagagccgaggacacagccatgtattactgtgtgagtaactgggccagtggctcaacgggggactactggggccagggaaccctggtcaccgtctcctca\n",
    "\n",
    ">>m36.4\n",
    "caggtgcagctggtgcagtctgggggaggcttggtacagcctggagggtccctgagactctcctgtgcagcctctgctttcgatttctctgattatgaaatgagctgggtccgcgaggctccagggaaggggctggagtggattggggaaatcaatgatagtggaaacaccatttacaatccgtccctcaagagtcgagtcaccatctccagagacaattccaagaacacactgtatctgcaaatgaacaccctgagagccgaggacacagccatatattactgtgcgatatatggtggtaactccgggggagagtactggggccagggcaccctggtcaccgtctcctca\n",
    "\n",
    ">(G4S)3\n",
    "ggaggtggcgggtctggtggaggcgggtccggtggtggcggatcc\n",
    "\n",
    ">(G4S)4\n",
    "ggaggtggcgggtctggtggaggcgggtccggtggtggcggatccggagggggcggttca\n",
    "\n",
    ">(G4S)6\n",
    "ggaggtggcgggtctggtggaggcgggtccggtggtggcggatccggaggtggcgggtctggtggaggcgggtccggtggtggcggatcc\n",
    "\n",
    ">(G4S)9\n",
    "ggtgggggcggaagcggagggggcggttcaggtggcgggggatctggagggggtggctccggcggtgggggatcgggaggaggcggcagtggcggcggaggaagcggaggaggtggttcaggtggtggaggatct\n",
    "\n",
    ">(G4S)12\n",
    "ggaggtggcgggtctggtggaggcgggtccggtggtggcggatccggtgggggcggaagcggagggggcggttcaggtggcgggggatctggagggggtggctccggcggtgggggatcgggaggaggcggcagtggcggcggaggaagcggaggaggtggttcaggtggtggaggatct\n",
    "\n"
   ]
  },
  {
   "cell_type": "code",
   "execution_count": 5,
   "metadata": {},
   "outputs": [
    {
     "name": "stdout",
     "output_type": "stream",
     "text": [
      "引物：\n",
      "Pcomb-n501-F:gctggtttcgctaccgtggcccaggcggccgaggtgcagc\n",
      "n501-(G4S)12-R:agatcctccaccacctgaaccacctcctccgcttcctccgccgccactgccgcctcctcccgatcccccaccgccggagccaccccctccagatcccccgccacctgaaccgccccctccgcttccgcccccaccggatccgccaccaccggacccgcctccaccagacccgccacctcctgaggagacggtgaccaggg\n",
      "m36.4-Pcomb-R:ggtggtggtggtggccggcctggcctgaggagacg\n",
      "(G4S)12-m36.4-F:ggaggtggcgggtctggtggaggcgggtccggtggtggcggatccggtgggggcggaagcggagggggcggttcaggtggcgggggatctggagggggtggctccggcggtgggggatcgggaggaggcggcagtggcggcggaggaagcggaggaggtggttcaggtggtggaggatctcaggtgcagctggtgcagtc\n",
      "序列：\n",
      "gaggtgcagctggtggagtctgggggaggcttggtacagcctggagggtccctgagactctcctgtgcagcctctgacttcaccttccgcagttatgaaatgagctgggtccgccaggctccagggaaggggctagagtgggtctcagctattagtggtagtggtggtagcacatactacgcagactcagtgaagggccgattcaccatctccagagacaattccaagaacacgctgtatctgcaaatgaacAGCctgagagccgaggacacagccatatattactgtgctaggcttagggatggcttcaataagggctttgactactggggccagggaaccctggtcaccgtctcctcaggaggtggcgggtctggtggaggcgggtccggtggtggcggatccggtgggggcggaagcggagggggcggttcaggtggcgggggatctggagggggtggctccggcggtgggggatcgggaggaggcggcagtggcggcggaggaagcggaggaggtggttcaggtggtggaggatctcaggtgcagctggtgcagtctgggggaggcttggtacagcctggagggtccctgagactctcctgtgcagcctctgctttcgatttctctgattatgaaatgagctgggtccgcgaggctccagggaaggggctggagtggattggggaaatcaatgatagtggaaacaccatttacaatccgtccctcaagagtcgagtcaccatctccagagacaattccaagaacacactgtatctgcaaatgaacaccctgagagccgaggacacagccatatattactgtgcgatatatggtggtaactccgggggagagtactggggccagggcaccctggtcaccgtctcctca\n"
     ]
    }
   ],
   "source": [
    "def generate_primers(seq1,seq2,G4S):\n",
    "    '''采用Pcomb载体和G4S连接器连接两条抗体序列,生成引物序列,请输入小写字母\n",
    "    自己去调整Pcomb载体,已经验证过这个模型是对的了'''\n",
    "    Pcomb_seq1_F=\"gctggtttcgctaccgtggcccaggcggcc\"+seq1[0:10]\n",
    "    seq1_G4S_R1=seq1[-20:]+G4S\n",
    "    seq1_G4S_R=seq1_G4S_R1.replace('a', 'T').replace('t', 'A').replace('c', 'G').replace('g', 'C').lower()[::-1]\n",
    "    seq2_Pcomb_R1=seq2[-10:]+\"ggccaggccggccaccaccaccacc\"\n",
    "    seq2_Pcomb_R=seq2_Pcomb_R1.replace('a', 'T').replace('t', 'A').replace('c', 'G').replace('g', 'C').lower()[::-1]\n",
    "    G4S_seq2_F=G4S+seq2[0:20]\n",
    "    seqall=seq1+G4S+seq2\n",
    "    print(\"引物：\")\n",
    "    print(\"Pcomb-\",name1,\"-F:\",Pcomb_seq1_F,sep='')\n",
    "    print(name1,\"-\",name3,\"-R:\",seq1_G4S_R,sep='')\n",
    "    print(name2,\"-Pcomb-R:\",seq2_Pcomb_R,sep='')\n",
    "    print(name3,\"-\",name2,\"-F:\",G4S_seq2_F,sep='')\n",
    "    print(\"序列：\")\n",
    "    print(seqall)\n",
    "    \n",
    "name1=input(\"请输入第一条抗体名称：\")\n",
    "name2=input(\"请输入第二条抗体名称：\")\n",
    "name3=input(\"请输入G4S连接器名称:(G4S)n\")\n",
    "seq1=input(\"请输入第一条抗体序列：\")\n",
    "seq2=input(\"请输入第二条抗体序列：\")\n",
    "G4S=input(\"请输入G4S连接器序列:\")\n",
    "generate_primers(seq1,seq2,G4S)"
   ]
  }
 ],
 "metadata": {
  "kernelspec": {
   "display_name": "FUN",
   "language": "python",
   "name": "python3"
  },
  "language_info": {
   "codemirror_mode": {
    "name": "ipython",
    "version": 3
   },
   "file_extension": ".py",
   "mimetype": "text/x-python",
   "name": "python",
   "nbconvert_exporter": "python",
   "pygments_lexer": "ipython3",
   "version": "3.12.1"
  }
 },
 "nbformat": 4,
 "nbformat_minor": 2
}

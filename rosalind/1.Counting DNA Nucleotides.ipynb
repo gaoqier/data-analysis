{
 "cells": [
  {
   "cell_type": "code",
   "execution_count": 4,
   "metadata": {},
   "outputs": [
    {
     "name": "stdout",
     "output_type": "stream",
     "text": [
      "228 222 271 242\n"
     ]
    }
   ],
   "source": [
    "#求一个字符串中A,C,G,T的个数\n",
    "#我的解决方法（读入读出见python文档）\n",
    "with open('rosalind_dna.txt',encoding='utf-8') as f:\n",
    "    dna =f.read()\n",
    "    print(dna.count('A'),dna.count('C'),dna.count('G'),dna.count('T'))"
   ]
  },
  {
   "cell_type": "code",
   "execution_count": 8,
   "metadata": {},
   "outputs": [
    {
     "name": "stdout",
     "output_type": "stream",
     "text": [
      "228 222 271 242\n"
     ]
    }
   ],
   "source": [
    "#法2\n",
    "#input=GCGAAGCGAGGCTGGCAGTCTACTTATGAAGGTATGCTGATTAAGGTAGTTGTATGGAAAACGCGTCGACTCGGCTTCTCGAAGCTTCGGTGAATGGCTTGTGACGGTGTGGACCTGTATGTAAAAGCAAGCTCGAAAAGGCAAATCCTGATTTAGCATTCATTCCCCGTTTACCTCTCGTATCGACCAGATGCCGGAATCCCTGGAAGGAATTGAGCCGTAATTCATTATCTGGAGAGGGACTGGGGCACAAAATTAGTCCATGGGCAATGAGAGGCTAAGCCGCGAGAGGAGTTCTAGTGGGGGGTTTGATTCATTCCCCCATGGGAACATTATCCTCCTAATACGCAAGAAGTTGGACCTTACCTGATAGTAGCTTTTCTGGCAGAGTAGCGGGCTGTCTTAGCTATTTTATGAACGGGTGGTGGCCACTAGATCATCTGGGCCCTTTTGAGGGCGATTGTCACCGTCCGGGTCCCGTATTACTGACACTCGAGCGCGAGCGCAGCGACGCGTGGCTCTACCTCACCAATAGCCGCCATCTGCTGTGCACACAAACTATGAGGCACTCACTTGAGGGCTAGTAAACTTCGTCGGACGCTTCGCAGTCTCGTGATGTGCGCTAATTTTTCGCGGCCAGTCTGCCACTAGTTGGATAAGACAGGAAGCGGAATACGTGCACCTTTCGATCAGATGACGTATGCAAATTAGTGTACTTGGACCGTGGATCCTAGCGTGGGGGATACTGCTAATAGATTTATACTCGGGTGCTATCATGCCGCCCGCTCGCAAAAGGGCGGCGTACCGCGCGCAGAAAGCTCCCGATCTCAGGAGTATCGTCTAATTTGTTCGCAGTAGTGCGAAATACTCCACACCTTGCTGTCTGTTATGTTTGAATCGCCTATGTCAGATAGAACGACGGGTAGTTCTAATGGAGGGGGGAATACCGCCGGGCTAGAAAAG\n",
    "print(*map(input().count, \"ACGT\")) # *map()将map()返回的迭代器转换为元组，然后用print()打印出来"
   ]
  },
  {
   "cell_type": "markdown",
   "metadata": {},
   "source": [
    "map(func, lst)，将传⼊的函数变量func作⽤到lst变量的每个元素中，并将结果组成新的列表(Python2)/迭代器(Python3)返回。需求：计算 list1 序列中各个数字的2次⽅。list1 = [1, 2, 3, 4, 5]\n",
    "\n",
    "\n",
    "def func(x):\n",
    " return x ** 2\n",
    "\n",
    "\n",
    "result = map(func, list1)\n",
    "\n",
    "print(result) # <map object at 0x0000013769653198>\n",
    "print(list(result)) # [1, 4, 9, 16, 25]\n",
    "\n",
    "作者：黑马程序员Python\n",
    "链接：https://www.zhihu.com/question/507793239/answer/2283124410\n",
    "来源：知乎\n",
    "著作权归作者所有。商业转载请联系作者获得授权，非商业转载请注明出处。"
   ]
  }
 ],
 "metadata": {
  "kernelspec": {
   "display_name": "FUN",
   "language": "python",
   "name": "python3"
  },
  "language_info": {
   "codemirror_mode": {
    "name": "ipython",
    "version": 3
   },
   "file_extension": ".py",
   "mimetype": "text/x-python",
   "name": "python",
   "nbconvert_exporter": "python",
   "pygments_lexer": "ipython3",
   "version": "3.10.9"
  }
 },
 "nbformat": 4,
 "nbformat_minor": 2
}

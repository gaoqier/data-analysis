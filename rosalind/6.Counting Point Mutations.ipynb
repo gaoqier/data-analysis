{
 "cells": [
  {
   "cell_type": "code",
   "execution_count": 20,
   "metadata": {},
   "outputs": [
    {
     "name": "stdout",
     "output_type": "stream",
     "text": [
      "489\n"
     ]
    }
   ],
   "source": [
    "#计算点突变数量\n",
    "with open('rosalind_hamm.txt',encoding='utf-8') as f:#使用readlines返回结果是列表，每行是一个字符串\n",
    "    a=f.readline()\n",
    "    b=f.readline()\n",
    "    i=0\n",
    "    mute=0\n",
    "    while a[i]!=\"\\n\":#注意是反斜杠\n",
    "        if a[i]!=b[i]:\n",
    "            mute+=1\n",
    "            i+=1\n",
    "        else:\n",
    "            i+=1\n",
    "    print(mute)\n",
    "\n"
   ]
  },
  {
   "cell_type": "code",
   "execution_count": 29,
   "metadata": {},
   "outputs": [
    {
     "name": "stdout",
     "output_type": "stream",
     "text": [
      "CTCAATTAAATTGCAGGAATCCATCCGGAAAACTTGTTGAAAAGCCCTTTGAATGGAGAATGGCGGTTGCAATGGCACGGCTCGCACGAGACGTATGTAGTCTCGGTTAACGTGCCCATTCTCGTCGGGCTCTTTTACTTCAATACCTAGTTACCCATCCTTGCCTGGCTACTTGTTACTACTACGAAGGGGACCGCGTTCCACCGCAGCAACGCAACACTCACAGACTGCGCCGCATGTTACAGTTTTTCGCATGACCGATATATTGCAGAGACGAGATGTCACCTGCACCACAAAGTAGAGAACAGGGTTCCGGGATAGGATATCTTCGACAATCCTCACATAAACAGAATGGGTGTGACATGATAGTATTGCACATGTCCCTGCAAAAATTTGTAAGGATGACGGGCCCCCGAAACGCCTGTGCGGTGACTGGAATGAAGTTGTGGGCGTACGTAGTTTCATATTAGATTTTTGAAACAGCTCTTCTAATAATACACCCTACGGTAGCCCTCGGATAATCTCCGTACTATCAGACTCAGATGGCTGAGAGACTCCATGGACGTTGCAGAGTTGATAACTTTTGCGAATCAGTCCAGTCAATAGCTCACCACCTGTAATTAGCTAACCAGTACAAAGCAAACAATTTTTTTTGACATCCTACAACTCCTAGGAGCCCACGCGAAACCCCCGGTCGCATTAACCGCATTCGAGCACAGTCCTGTTTGTCATCTCATCGATGGACATACACGCAGTGGTGTTACGAATAAGTAGAAGTTTCCCGAAGCAGTTTGTAAAAGCCGCAAGTAAACTGAATTCGGACGTGAGCCCTTGATTGCCTACGGTGCGGTACCTCTCGGAGCCTTAATGGGAAATCCTCGTTTTCATGCCTTCACTTCGTTTAGTCAGATACATAACTGACAGCTCCCCAGGTCTGAGCATGCCG\n",
      "\n",
      "CGCAATAATATTGCCGTGCCTGCACGATCCATCGTAAGTAATAGCCTGATTAATGTTGTACCGCGAGACCAATGTCAGGGCTGCCCAGGTCCTTAGGATACGTCCCCTACTCCGTCCATCTTAGTACCTCAGCATCAGGTGAAACTGTCGTAACTCTTGCTGGGCGGGCTTCGTAAGGTTACTTGCATGGGTAACGCGTTCCTAGGTGGCAACCCCACACAAACAAGAAACGCCGGTGGTTACAGGCTTTATCGTGGGTCATATATTCCATGTCCGCGTTCTGTCCTGTATACTTACTAAGAGAGAAGTATCCCGGAAAGCTGCATTTAGGGCGCTATTCTCATAGCTGAGATTATCGTACCATTACGGTACGCTCGAATGCTTACCGATACCATCTGCGACTCGGTTCCCCGCATGCTATCGGAGCGCAGACGGCATTTATGATGGGGCGGATAGCACTCTGAGTATCCGTTTCAACTTCAGTAGCCATCTGAATAAGACCGGAAGAAGCCCTGGAATGCGATAGGTACTTCAAGATGAAGATGACACCGACAACCCATCAACGTCGCGTCGTAATTATTTGCTATCATAGCCTTCAGTTCTAAGCTCGTGAGTGGAGGAGTGCCACGCGGGCGATTGTCCAAGATTTTTGATAGCATCCTATGACTGCTCTAGGACCGCCAGAATGACGCAGTCTCTATGGGCTCTGTAAATCGCAGTCATAGTGGTGGTCCCGACGATGGATAGAGAAGAACTCTCGGTCGTATTCAGTAGGACTTGCGCTAACTACTGTAAAAGGGCCATAAATGGACTCCGTTCGGATTGGGATCCGTGAGATGTTCTGGATAAGACGGTTACATAGAATTTCTAGCCGCGACTCGTTTTAGCAACCTCACGTCGTCTCCTGTGGGAATTATCCTACCGCAGGGCGGAGTTGCGTTTGCAC\n",
      "\n"
     ]
    }
   ],
   "source": [
    "with open('rosalind_hamm.txt',encoding='utf-8') as f:#使用readlines返回结果是列表，每行是一个字符串\n",
    "    a=f.readlines()\n",
    "    a1=a[0]\n",
    "    a2=a[1]\n",
    "    print(a1)\n",
    "    print(a2)\n",
    "#很奇怪的一点是如果用a=f.readlines()[]的话只能读取一行，第二行就读不出来了，真tm奇怪,如下。找到原因了，readlines是一次性函数，读取完就没了"
   ]
  },
  {
   "cell_type": "code",
   "execution_count": 31,
   "metadata": {},
   "outputs": [
    {
     "name": "stdout",
     "output_type": "stream",
     "text": [
      "CTCAATTAAATTGCAGGAATCCATCCGGAAAACTTGTTGAAAAGCCCTTTGAATGGAGAATGGCGGTTGCAATGGCACGGCTCGCACGAGACGTATGTAGTCTCGGTTAACGTGCCCATTCTCGTCGGGCTCTTTTACTTCAATACCTAGTTACCCATCCTTGCCTGGCTACTTGTTACTACTACGAAGGGGACCGCGTTCCACCGCAGCAACGCAACACTCACAGACTGCGCCGCATGTTACAGTTTTTCGCATGACCGATATATTGCAGAGACGAGATGTCACCTGCACCACAAAGTAGAGAACAGGGTTCCGGGATAGGATATCTTCGACAATCCTCACATAAACAGAATGGGTGTGACATGATAGTATTGCACATGTCCCTGCAAAAATTTGTAAGGATGACGGGCCCCCGAAACGCCTGTGCGGTGACTGGAATGAAGTTGTGGGCGTACGTAGTTTCATATTAGATTTTTGAAACAGCTCTTCTAATAATACACCCTACGGTAGCCCTCGGATAATCTCCGTACTATCAGACTCAGATGGCTGAGAGACTCCATGGACGTTGCAGAGTTGATAACTTTTGCGAATCAGTCCAGTCAATAGCTCACCACCTGTAATTAGCTAACCAGTACAAAGCAAACAATTTTTTTTGACATCCTACAACTCCTAGGAGCCCACGCGAAACCCCCGGTCGCATTAACCGCATTCGAGCACAGTCCTGTTTGTCATCTCATCGATGGACATACACGCAGTGGTGTTACGAATAAGTAGAAGTTTCCCGAAGCAGTTTGTAAAAGCCGCAAGTAAACTGAATTCGGACGTGAGCCCTTGATTGCCTACGGTGCGGTACCTCTCGGAGCCTTAATGGGAAATCCTCGTTTTCATGCCTTCACTTCGTTTAGTCAGATACATAACTGACAGCTCCCCAGGTCTGAGCATGCCG\n",
      "\n"
     ]
    },
    {
     "ename": "IndexError",
     "evalue": "list index out of range",
     "output_type": "error",
     "traceback": [
      "\u001b[0;31m---------------------------------------------------------------------------\u001b[0m",
      "\u001b[0;31mIndexError\u001b[0m                                Traceback (most recent call last)",
      "Cell \u001b[0;32mIn[31], line 4\u001b[0m\n\u001b[1;32m      2\u001b[0m a\u001b[38;5;241m=\u001b[39mf\u001b[38;5;241m.\u001b[39mreadlines()[\u001b[38;5;241m0\u001b[39m]\n\u001b[1;32m      3\u001b[0m \u001b[38;5;28mprint\u001b[39m(a)\n\u001b[0;32m----> 4\u001b[0m b\u001b[38;5;241m=\u001b[39m\u001b[43mf\u001b[49m\u001b[38;5;241;43m.\u001b[39;49m\u001b[43mreadlines\u001b[49m\u001b[43m(\u001b[49m\u001b[43m)\u001b[49m\u001b[43m[\u001b[49m\u001b[38;5;241;43m1\u001b[39;49m\u001b[43m]\u001b[49m\n\u001b[1;32m      5\u001b[0m \u001b[38;5;28mprint\u001b[39m(b)\n",
      "\u001b[0;31mIndexError\u001b[0m: list index out of range"
     ]
    }
   ],
   "source": [
    "with open('rosalind_hamm.txt',encoding='utf-8') as f:\n",
    "    a=f.readlines()[0]\n",
    "    print(a)\n",
    "    b=f.readlines()[1]\n",
    "    print(b)"
   ]
  },
  {
   "cell_type": "code",
   "execution_count": 1,
   "metadata": {},
   "outputs": [
    {
     "data": {
      "text/plain": [
       "7"
      ]
     },
     "execution_count": 1,
     "metadata": {},
     "output_type": "execute_result"
    }
   ],
   "source": [
    "#法2\n",
    "s1 = 'GAGCCTACTAACGGGAT'\n",
    "s2 = 'CATCGTAATGACGGCCT'\n",
    "sum([a != b for a, b in zip(s1, s2)])#注意是方括号\n",
    "#print [ a!=b for (a, b) in zip(s1, s2)].count(True)"
   ]
  },
  {
   "cell_type": "markdown",
   "metadata": {},
   "source": [
    "# zip函数\n",
    ">>> a = [1,2,3]\n",
    ">>> b = [4,5,6]\n",
    ">>> c = [4,5,6,7,8]\n",
    ">>> zipped = zip(a,b)     # 打包为元组的列表\n",
    "[(1, 4), (2, 5), (3, 6)]\n",
    ">>> zip(a,c)              # 元素个数与最短的列表一致\n",
    "[(1, 4), (2, 5), (3, 6)]\n",
    ">>> zip(*zipped)          # 与 zip 相反，*zipped 可理解为解压，返回二维矩阵式\n",
    "[(1, 2, 3), (4, 5, 6)]"
   ]
  }
 ],
 "metadata": {
  "kernelspec": {
   "display_name": "FUN",
   "language": "python",
   "name": "python3"
  },
  "language_info": {
   "codemirror_mode": {
    "name": "ipython",
    "version": 3
   },
   "file_extension": ".py",
   "mimetype": "text/x-python",
   "name": "python",
   "nbconvert_exporter": "python",
   "pygments_lexer": "ipython3",
   "version": "3.10.9"
  }
 },
 "nbformat": 4,
 "nbformat_minor": 2
}

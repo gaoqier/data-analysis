{
 "cells": [
  {
   "cell_type": "code",
   "execution_count": 42,
   "metadata": {},
   "outputs": [
    {
     "name": "stdout",
     "output_type": "stream",
     "text": [
      "\n",
      "CGGGTTACGCAGATCGCTGATCGATAGTACGCCGTGGACGCCTGCGCAGTTATCGTTATAAGACTTGGAGTGGACGCCTTTATGGTCACGTACGAGCCGGGACCATAATCACTCATTTAGTCGCTATGGATCAAGTTTCTAGTGACCGCGCATATTGAATTCGAGGAGCTCTGTTTTCATGGCGCCCTCTTAGGCACGCTATTGCGAGAAAAAGCTAGGAGCAGTGGAGAGGTTATGCGCACTTTAATCTCCGAACCCGGTAACCTTTCTAGAATCTACACTTTACACGCAGCGAGTGGATGGAGTTTATGACACTCGTTTGCTCTAATGACTCCCTGGGTAGAAATGGGTTGACGGAGTAAGACGCGGAGGCGCGGGGTTCCGACACAAACAACAGACTTGGAGTTCGAAAGCACCGCTAGGCAATGGTTGACCACATTTCGTCAAAAGACCCACTAGAATTCCTTGTCAGTGAATTTGCGCGCGTCAACAATGTAGTTCTCGTCGACCGATACACGAAGGCATGTCTGGTAAGACCAGAATTACCGTACAACGATACCGCATGGTGATATGTCTTATAACGACAGTCGATGCAATGAAACTGTGCAAGGGGCAATCCATCCCCAAAGAGCCAAACGAGATGCATGGGCATTTGACTGTTCTCAGATTATGCAGATCGTCTGGAAAATCGAGTTGCTGAGGCGTGGAAGAGGCACAGCACTCCTTCATCCGGCAATCACGCAATACTAAAGCGGAACGTATGGTCACGTCGAAAAGTCTACATCTCATGAAGGCAAGTCTGAGGAATTTCCCGACGCGGGACAGGTAATAAACAAACCGATGGGCCTAACTGAGCTCAACCTTCCGCTACCTTTCCGAATGATCACGGAGTGTTACCTCTCAGCATATCAAGTGAGCGCTACTCTTGCAACTCACGTGACTCGTTGCTGACATAGATAACATCCCAGCGGAGGTT\n"
     ]
    }
   ],
   "source": [
    "#求DNA反向序列\n",
    "with open('rosalind_revc.txt',encoding='utf-8') as f:\n",
    "    dna =f.read()\n",
    "    dnaa=list(dna)\n",
    "    for i in range(len(dna)):\n",
    "        if dnaa[i]=='A':\n",
    "            dnaa[i]='T'\n",
    "        elif dnaa[i]=='T':\n",
    "            dnaa[i]='A'\n",
    "        elif dnaa[i]=='C':\n",
    "            dnaa[i]='G'\n",
    "        elif dnaa[i]=='G':\n",
    "            dnaa[i]='C'\n",
    "    dnaa=dnaa[::-1]\n",
    "    print(''.join(dnaa))#将列表转为字符串，以''为分割\n",
    "   #这道题有两个关键，第一是字符串是不可变类型要转为列表进行替换操作，其次是使用join函数将列表转为字符串"
   ]
  },
  {
   "cell_type": "code",
   "execution_count": 45,
   "metadata": {},
   "outputs": [
    {
     "name": "stdout",
     "output_type": "stream",
     "text": [
      "ACCGGGTTTT\n"
     ]
    }
   ],
   "source": [
    "#法2：\n",
    "st = \"AAAACCCGGT\"\n",
    "st = st.replace('A', 't').replace('T', 'a').replace('C', 'g').replace('G', 'c').upper()[::-1]\n",
    "print(st)\n",
    "#这个方法很妙，如果不先赋值成小写的就会导致后面的替换把前面替换覆盖了。先改成小写的再改成大写的就不会出现这种情况了\n",
    "#所有数据类型都能进行切片运算"
   ]
  },
  {
   "cell_type": "code",
   "execution_count": null,
   "metadata": {},
   "outputs": [],
   "source": [
    "#法3\n",
    "from string import maketrans\n",
    "s = 'AAAACCCGGT'\n",
    "print(s[::-1].translate(maketrans('ACGT', 'TGCA')))\n",
    "#makestrans是一个函数，用于创建字符映射的转换表，第一个参数是字符串，表示需要转换的字符，第二个参数也是字符串，表示转换的目标。"
   ]
  }
 ],
 "metadata": {
  "kernelspec": {
   "display_name": "FUN",
   "language": "python",
   "name": "python3"
  },
  "language_info": {
   "codemirror_mode": {
    "name": "ipython",
    "version": 3
   },
   "file_extension": ".py",
   "mimetype": "text/x-python",
   "name": "python",
   "nbconvert_exporter": "python",
   "pygments_lexer": "ipython3",
   "version": "3.10.9"
  }
 },
 "nbformat": 4,
 "nbformat_minor": 2
}

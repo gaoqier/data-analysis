{
 "cells": [
  {
   "cell_type": "code",
   "execution_count": 15,
   "metadata": {},
   "outputs": [
    {
     "data": {
      "text/plain": [
       "<function max>"
      ]
     },
     "execution_count": 15,
     "metadata": {},
     "output_type": "execute_result"
    }
   ],
   "source": [
    "#🍬注意不要把变量名起成内置函数名！会导致覆盖\n",
    "#报错'int' object is not callable\n",
    "#解决办法👇\n",
    "del max\n",
    "max"
   ]
  },
  {
   "cell_type": "markdown",
   "metadata": {},
   "source": [
    "现在还存在两个问题：1.range的问题 2.怎么返回多条可能片段（其实这道题倒是没这么要求的，虽然用max函数多写三次也可以解决的，我本来想的是像R一样有outer函数-实现所有排列组合结果） 3.numpy尝试#https://zhuanlan.zhihu.com/p/142500752"
   ]
  },
  {
   "cell_type": "code",
   "execution_count": 25,
   "metadata": {},
   "outputs": [
    {
     "name": "stdout",
     "output_type": "stream",
     "text": [
      "5\n"
     ]
    }
   ],
   "source": [
    "#🍬\n",
    "A=[]#不可以写成list()\n",
    "T=[]\n",
    "C=[]\n",
    "G=[]\n",
    "A.append(5) #在列表尾部添加单个元素,不添加元素直接给新一位赋值会报错\n",
    "T.append(2)\n",
    "C.append(3)\n",
    "G.append(4)\n",
    "print(max(A[0],T[0],C[0],G[0]))"
   ]
  },
  {
   "cell_type": "code",
   "execution_count": 1,
   "metadata": {},
   "outputs": [
    {
     "name": "stdout",
     "output_type": "stream",
     "text": [
      "GAAGTTTCAGAGACGAGTAAGTTGCAAAATTCTACCAAGTTCGATTGGCATCCCACGACTCATATGACACTAACCATAGACTATAATAAGCATAAACAATGTCCGAACCTTCGGCAGAGGAGTTCAACAAGGGATACCGTAGACTCCCAATAATGATTTTGCAAATCATCTTTTCAATGAAATTACTGAGACACGAACTTTATACTCTGAGCATTATGATCAAGACAGGTCCAACGACCACCCCCTAAATAGTTTCCTGACGAGCAAAAAGTGACACGCTGCATAGCATAAAAAGCTAAGAGGTACATTACACTTTACGTCCACTTAAGAACTGCAATTAGAATACAAAAACTGGCTTCTATTTTTCGTGAGATCCCACACCAGAAATGCACCAAGTCAGATATTTATATAACAATCCAACGGATTCTCACCCTGAAATAATTGGGAGGACTACGCTATTATTGCTATTCGTCACGATAGTTCAACATCTTTTCAAGTACGCTTAGTCCCTAATCTATAAGAGAGAACTTAATCACTTTTTTACCCCCCAAGATCATAACTCCCAAAGATCATGCCTGTATCCATTCAGCCCCTTCTGACTAATACTAGACAGCCAGCGTGGGCAATAACTCCCACTGAGTACGATATCTTATGTATCTTTCCTACGACCAATACTAAGTGTATAGTAGGTCTTCCTTTGATTAACGCGATTGACTACACACCCAGGGCCCATATAGGGCTTTGCAGGGGCCCAAATATTTTTACATACTGGTTTGTCATAGAAGGCAGTCAATAAAACTTCTAACTATTGATAGAACTTTTCTTAAAGATACTTACAAAAATGGAACGGACGCAACAATATCTATATAATGGACAGGCAATTAACGGACAGCATGCACTACATCATAAAATTACAATCATTACTTGCCCGTGGAA\n",
      "\n",
      "A: 4 4 5 0 1 3 2 1 5 2 3 1 5 1 3 4 1 3 5 4 1 3 1 1 2 5 3 3 4 1 2 2 2 4 3 1 3 3 2 2 3 0 3 4 0 1 1 2 1 5 1 1 0 4 3 1 2 4 2 1 1 4 3 6 1 1 4 2 3 2 2 5 4 2 3 3 2 3 2 5 1 1 4 3 3 3 3 4 4 2 0 4 2 5 6 3 3 3 3 3 1 3 2 2 2 3 4 0 3 2 3 3 2 2 2 4 3 5 2 1 3 0 3 3 2 4 4 2 5 3 2 2 0 3 1 3 3 2 0 3 3 1 3 2 3 3 1 1 4 5 3 3 3 0 2 5 1 2 2 1 3 3 6 4 5 0 3 3 2 2 2 3 2 2 1 4 4 1 3 5 4 4 1 1 4 2 3 2 4 1 4 2 3 1 1 3 4 1 1 2 2 3 4 5 2 1 1 2 0 3 1 2 5 2 3 5 2 3 4 2 2 4 4 2 3 0 3 2 3 3 2 0 4 4 3 1 5 1 2 4 1 1 2 1 0 1 5 3 4 2 3 1 2 1 0 0 0 2 2 4 3 1 4 1 2 3 5 4 5 4 2 1 1 3 2 3 2 2 2 0 2 2 3 1 4 3 3 3 2 5 5 5 3 3 0 2 1 4 4 1 3 3 2 0 4 2 4 1 2 3 2 5 2 2 2 2 4 2 1 2 3 3 3 3 3 2 5 3 1 4 4 1 1 1 3 4 3 1 3 5 2 3 4 3 4 2 6 3 3 5 4 2 1 2 3 2 1 3 2 2 5 2 4 1 2 2 2 2 2 0 3 2 4 2 1 2 2 4 1 4 2 2 5 3 3 4 3 1 1 2 3 3 2 4 5 1 0 2 3 2 3 2 4 2 0 3 4 2 4 2 5 3 2 3 4 1 0 1 3 5 1 2 2 5 3 2 1 2 1 3 2 1 3 2 2 4 3 5 1 6 3 2 1 1 1 1 3 0 2 3 2 1 4 1 1 0 1 4 3 2 6 2 2 1 2 0 5 1 2 2 3 2 2 4 1 1 4 2 4 1 1 2 3 3 3 2 5 3 0 3 0 2 2 0 4 4 3 2 4 2 3 1 2 2 3 3 1 3 2 1 1 5 5 0 1 2 4 2 4 5 0 3 2 4 1 3 4 2 1 2 4 4 1 0 4 2 1 2 3 2 2 1 3 0 2 2 1 2 2 5 3 0 4 1 0 3 2 3 4 1 2 2 3 2 3 5 4 0 6 2 1 5 2 3 3 2 1 2 2 4 2 2 2 4 2 1 3 3 1 2 2 3 1 1 2 1 0 3 4 3 2 5 3 3 5 2 1 3 0 5 2 8 1 3 1 5 2 1 2 0 2 3 0 2 5 3 2 3 6 0 2 1 1 2 3 1 2 2 4 3 0 8 1 2 3 1 6 0 3 1 2 4 2 1 1 6 2 1 2 3 2 1 2 2 6 1 2 3 2 1 3 4 0 4 2 2 5 4 3 2 0 0 4 3 4 3 2 3 1 1 1 1 2 2 3 2 3 2 1 2 5 2 0 3 4 1 1 2 3 3 1 1 2 4 2 1 4 2 3 1 5 1 1 2 5 1 0 2 3 2 3 5 1 4 2 4 2 2 0 2 0 1 2 3 0 5 1 2 0 0 2 3 3 4 4 3 2 3 1 3 3 3 2 3 2 4 2 3 2 3 1 2 2 2 1 2 1 2 3 3 4 1 4 6 3 1 3 3 3 2 1 4 4 3 3 6 5 4 2 2 1 0 2 3 5 2 1 4 2 1 3 3 1 5 2 4 5 1 2 3 2 1 2 1 2 3 3 4 1 3 1 4 2 2 1 4 2 5 3 3 4 4 2 3 1 6 3 3 1 2 5 2 3 2 4 3 3 4 4 2 4 3 1 2 4 3 4 2 3 5 2 2 1 3 1 3 1 3 2 6 3 3 1 6 4 2 1 2 3 1 5 1 1 4 2 2 2 3 2 2 6 0 3 2 1 3 1 3 4 4 4 2 0 4 2 3 4 1 2 5 2 2 3 3 1 2 1 1 3 2 1 1 3 1 3 4 \n",
      "\n",
      "C: 1 4 0 2 3 0 1 4 2 1 3 3 3 4 1 2 2 2 1 1 2 1 3 3 4 4 3 3 2 4 3 5 3 3 4 4 1 2 2 1 3 6 0 3 2 3 2 3 4 1 3 5 4 5 3 6 1 1 3 1 5 1 1 2 4 3 2 5 1 4 0 1 4 4 4 2 2 1 2 1 6 1 4 0 1 3 1 1 4 2 4 3 0 4 2 1 5 2 2 0 2 1 5 3 1 2 3 4 5 1 0 4 1 2 5 4 2 1 2 1 2 3 1 3 4 1 3 3 3 2 2 2 2 2 3 3 4 4 3 1 3 1 3 3 0 4 4 4 3 1 1 2 2 2 3 2 3 2 3 2 0 5 0 0 3 3 6 3 2 5 2 1 4 3 6 1 2 2 2 3 1 2 3 1 1 4 0 2 1 2 1 4 3 4 1 3 1 4 2 3 2 1 0 5 3 3 5 3 2 3 1 4 3 3 1 1 2 3 2 2 5 3 3 1 2 4 3 1 1 1 4 4 2 4 4 3 2 5 3 3 6 6 4 4 7 3 2 3 3 1 3 2 2 2 1 4 4 3 0 2 6 3 4 2 5 3 2 1 1 0 2 3 2 2 3 2 5 2 3 3 1 6 1 1 2 3 4 2 2 3 1 2 2 2 2 4 1 2 2 3 2 2 3 4 3 4 2 3 4 1 3 2 4 1 1 0 1 3 3 2 4 4 2 4 0 3 2 2 2 4 1 5 1 3 4 0 3 2 0 1 3 2 2 1 3 3 2 2 2 2 1 3 3 1 0 4 2 0 4 1 3 3 0 2 2 2 6 2 1 2 3 1 3 2 5 4 4 1 4 2 4 5 2 1 1 1 1 1 2 3 1 4 4 2 3 3 3 4 1 2 1 2 1 1 4 2 2 3 2 2 2 3 4 3 2 3 4 4 3 2 4 1 2 2 0 2 5 2 5 2 3 4 4 0 1 2 2 2 1 1 2 3 2 2 3 3 3 1 3 2 4 3 1 4 2 5 1 2 2 2 1 3 2 2 5 3 1 2 2 4 2 3 3 3 6 3 1 1 2 2 2 3 4 3 2 3 1 2 5 1 3 1 1 5 2 1 2 1 2 4 1 6 4 2 3 2 3 4 6 5 3 2 2 3 5 3 1 3 2 1 3 3 1 2 2 3 0 4 3 3 0 2 1 5 1 4 3 2 1 3 2 1 3 4 3 4 4 4 4 2 3 2 1 2 4 2 2 3 4 5 1 6 4 4 2 1 4 2 1 3 4 2 3 2 4 4 2 1 3 1 1 4 5 1 1 2 4 2 0 4 5 4 5 2 2 4 3 0 2 6 4 1 1 1 2 4 1 2 3 3 5 0 2 4 5 2 1 5 1 2 3 1 2 4 3 2 3 1 0 4 1 4 5 3 3 4 2 3 2 2 3 1 5 2 3 3 2 2 4 0 3 1 2 2 3 1 2 5 1 0 1 6 5 3 1 4 3 2 6 5 3 3 1 0 4 2 2 1 1 4 3 2 0 1 3 2 2 2 1 3 3 7 2 2 4 4 2 2 1 3 2 1 2 2 3 4 2 3 1 3 1 3 2 1 4 2 4 4 3 4 1 4 4 5 1 2 3 1 4 6 4 4 2 2 3 3 1 0 3 5 3 2 2 1 7 2 2 1 3 3 4 4 4 2 2 3 3 2 2 1 2 2 3 3 6 0 4 2 4 1 1 2 2 2 1 0 3 4 3 2 2 3 0 2 3 2 5 2 1 2 7 4 1 2 3 4 1 1 4 2 3 4 3 3 1 5 2 1 2 3 0 3 2 2 2 1 3 4 2 2 3 2 5 2 2 2 3 2 2 3 2 3 5 0 4 4 3 0 2 3 1 1 3 3 1 2 2 5 2 2 1 4 2 3 3 3 6 3 3 2 1 1 5 3 2 1 0 2 3 0 2 0 2 2 6 3 3 2 3 2 2 3 2 1 1 4 3 1 1 4 2 3 5 1 2 3 3 3 3 1 0 6 3 2 5 2 2 3 2 1 2 2 2 4 4 3 3 3 4 1 3 3 1 4 3 2 0 5 4 4 2 4 1 2 3 1 \n",
      "\n",
      "G: 5 0 2 5 3 3 3 3 1 6 2 4 0 2 4 2 4 0 1 3 5 2 2 4 2 1 2 3 0 0 0 2 2 1 2 3 3 2 5 2 0 4 6 2 2 2 6 4 3 3 2 2 3 0 1 1 4 2 3 3 1 3 2 1 1 4 3 2 3 1 3 2 1 4 1 2 3 3 4 1 2 4 1 3 3 1 2 3 1 6 3 1 2 0 1 3 2 3 2 3 4 2 2 3 6 3 1 3 1 3 3 2 4 4 3 1 4 4 4 6 3 6 2 0 3 3 2 3 1 3 4 5 5 2 3 2 2 2 5 2 3 7 3 3 3 2 4 3 1 2 1 2 2 4 4 2 2 2 2 3 4 1 1 3 1 3 1 1 3 2 3 2 0 2 0 3 4 1 4 1 3 1 3 3 3 2 3 4 1 4 4 2 2 4 6 3 3 2 3 2 3 3 1 0 3 1 2 2 5 2 5 2 1 1 1 3 2 4 2 1 2 2 3 6 2 4 2 5 4 2 2 4 1 0 1 4 2 3 3 2 3 1 2 4 2 2 2 1 1 3 2 4 2 2 3 3 3 2 5 1 0 5 2 4 2 2 3 3 3 4 5 2 5 2 3 3 2 4 3 3 4 2 3 3 0 4 0 3 2 0 1 3 3 3 5 3 4 1 2 4 3 4 5 2 2 3 3 2 0 3 3 2 1 2 3 4 3 3 4 3 2 0 2 2 3 1 2 2 4 2 4 2 2 5 1 2 1 2 2 1 4 3 2 0 2 3 0 3 3 3 2 3 2 4 4 4 3 3 1 3 1 2 0 2 3 3 2 6 3 5 3 5 2 3 3 3 3 4 3 0 4 0 2 4 3 2 3 4 4 3 3 3 2 1 1 4 1 1 3 4 3 2 1 2 2 1 2 2 2 2 2 1 4 2 1 3 3 3 1 2 2 5 4 1 3 1 3 3 1 3 3 3 2 2 5 2 2 3 1 1 3 0 3 4 4 4 3 5 4 2 2 2 4 2 5 1 2 1 1 2 1 2 3 5 2 0 1 2 2 2 4 2 3 2 1 4 2 2 1 5 3 1 0 2 3 3 3 1 4 2 2 3 2 3 4 3 4 3 1 3 6 2 0 3 2 5 3 1 2 3 1 2 1 3 3 2 4 2 2 0 4 1 5 3 5 2 4 3 2 1 2 4 3 4 3 1 2 2 2 2 3 2 1 3 3 4 4 3 2 3 3 5 3 1 3 3 2 1 1 2 2 1 1 3 3 1 2 5 1 1 4 0 2 4 2 2 3 5 2 2 3 1 1 3 3 3 1 3 5 2 1 0 3 2 3 4 3 4 3 1 0 0 3 2 2 4 4 2 5 0 2 1 4 1 1 2 5 2 4 3 4 4 7 2 0 2 2 3 2 4 3 2 1 3 3 2 3 4 0 4 3 0 1 5 1 3 1 4 1 4 2 2 3 5 3 2 2 0 3 3 3 1 2 1 1 3 4 3 2 1 1 1 4 2 1 3 2 3 4 0 5 2 2 2 3 4 3 2 6 5 3 2 3 2 2 2 1 3 4 4 2 3 4 2 2 3 4 3 5 1 1 3 4 4 1 3 0 4 3 4 1 2 4 1 0 4 4 6 0 1 1 1 3 3 2 3 4 5 6 2 3 3 3 4 2 1 4 4 4 4 2 1 3 1 3 2 1 2 3 2 1 0 2 2 1 4 0 2 1 1 5 5 3 3 3 6 1 4 2 0 2 4 4 1 4 5 2 3 4 3 2 2 2 1 1 0 3 3 2 2 3 3 2 3 1 1 2 2 3 1 5 3 3 0 5 2 1 3 1 1 0 3 0 1 2 3 1 2 4 1 2 3 2 3 0 2 3 1 2 1 2 2 2 4 5 1 3 1 5 4 1 2 4 3 1 2 1 1 1 3 3 2 3 1 1 2 3 2 2 2 3 5 4 3 1 2 4 4 3 1 3 0 2 1 2 3 4 4 3 2 3 4 1 2 2 4 3 2 3 3 2 2 3 3 0 3 3 3 2 2 2 3 3 2 3 3 1 1 1 2 2 2 3 2 3 3 5 3 2 3 5 1 4 4 3 1 \n",
      "\n",
      "T: 0 2 3 3 3 4 4 2 2 1 2 2 2 3 2 2 3 5 3 2 2 4 4 2 2 0 2 1 4 5 5 1 3 2 1 2 3 3 1 5 4 0 1 1 6 4 1 1 2 1 4 2 3 1 3 2 3 3 2 5 3 2 4 1 4 2 1 1 3 3 5 2 1 0 2 3 3 3 2 3 1 4 1 4 3 3 4 2 1 0 3 2 6 1 1 3 0 2 3 4 3 4 1 2 1 2 2 3 1 4 4 1 3 2 0 1 1 0 2 2 2 1 4 4 1 2 1 2 1 2 2 1 3 3 3 2 1 2 2 4 1 1 1 2 4 1 1 2 2 2 5 3 3 4 1 1 4 4 3 4 3 1 3 3 1 4 0 3 3 1 3 4 4 3 3 2 0 6 1 1 2 3 3 5 2 2 4 2 4 3 1 2 2 1 2 1 2 3 4 3 3 3 5 0 2 5 2 3 3 2 3 2 1 4 5 1 4 0 2 5 1 1 0 1 3 2 2 2 2 4 2 2 3 2 2 2 1 1 2 1 0 2 2 1 1 4 1 3 2 4 2 3 4 5 6 3 3 3 3 3 1 1 0 3 1 2 0 2 1 2 1 4 2 3 2 2 1 2 2 4 3 0 3 5 4 0 3 2 4 2 3 0 2 2 3 1 4 3 2 2 2 1 0 4 1 1 1 4 4 3 2 1 3 5 4 4 2 2 2 3 1 3 3 1 4 4 1 3 3 0 1 2 6 1 2 4 3 5 5 3 1 2 2 6 1 2 2 2 2 0 3 2 4 3 3 0 4 4 3 4 1 3 6 5 3 3 0 0 4 3 1 2 1 3 1 1 1 1 2 4 0 3 1 2 3 3 3 4 3 2 3 0 2 3 1 2 6 3 3 2 3 4 4 5 4 4 2 3 2 4 1 3 0 2 3 3 3 2 3 1 3 2 2 2 4 5 1 3 3 2 2 2 1 6 2 2 3 0 7 2 2 5 4 3 2 2 1 4 1 3 2 4 1 3 2 4 6 3 4 4 2 3 3 2 1 7 3 5 4 2 1 3 2 1 2 2 3 5 3 2 4 4 3 2 2 2 1 4 1 4 5 4 5 2 0 2 1 4 3 1 0 1 4 3 2 0 3 2 0 1 5 1 2 4 1 3 1 3 2 4 3 3 2 1 2 2 2 1 4 4 4 0 5 1 2 3 4 4 4 3 3 6 3 3 2 0 1 1 2 0 1 3 2 6 3 2 4 3 1 2 5 1 2 1 2 3 0 3 2 4 1 3 3 1 1 2 4 2 3 3 4 3 2 2 4 4 2 2 4 2 2 3 1 5 3 1 4 3 1 0 4 4 3 4 1 0 4 3 2 2 1 1 3 2 3 1 2 2 3 5 1 2 1 2 2 3 3 3 2 2 4 3 3 2 1 3 3 1 4 1 4 1 3 1 3 3 1 4 2 5 3 3 3 2 3 1 4 4 4 4 4 2 1 4 2 2 1 2 0 3 3 2 5 4 3 3 1 2 2 4 2 6 4 4 0 1 3 3 2 1 3 0 3 4 1 2 4 3 4 1 1 4 4 3 1 2 3 2 1 3 7 3 2 1 3 4 2 0 1 1 3 3 1 2 4 3 3 1 3 1 2 0 4 1 3 0 3 3 1 1 4 4 3 2 1 2 3 3 3 3 2 2 0 3 1 2 4 3 4 4 4 5 3 2 1 2 4 3 3 5 3 1 3 3 5 2 5 0 2 5 2 2 2 1 0 2 0 2 2 3 0 0 3 4 3 0 1 2 2 4 3 3 3 1 3 2 5 3 3 5 2 1 4 3 1 3 1 2 5 4 5 4 3 6 4 2 3 2 3 3 5 0 1 5 5 0 2 4 3 3 3 3 3 0 3 1 2 1 2 2 3 2 1 2 2 2 0 2 2 3 2 4 1 4 3 4 3 4 2 3 3 3 3 2 2 2 2 1 2 1 2 4 5 2 3 1 2 3 3 3 0 2 3 3 4 1 2 2 2 4 2 2 1 3 4 2 4 1 2 3 2 3 5 0 1 1 2 5 3 2 3 3 3 1 3 3 4 1 1 1 2 4 2 3 1 4 \n",
      "\n"
     ]
    }
   ],
   "source": [
    "#法一.都是我自己写的\n",
    "import pyfastx\n",
    "fa = pyfastx.Fasta('rosalind_cons.txt')\n",
    "a=[]\n",
    "for i in range(0,len(fa)):\n",
    "    a.append(fa[i].seq)\n",
    "A=[]\n",
    "T=[]\n",
    "C=[]\n",
    "G=[]\n",
    "\n",
    "for i in range(0,(len(a[0]))):#这个range和len的个数我没有弄清楚\n",
    "    A.append(0)\n",
    "    T.append(0)\n",
    "    C.append(0)\n",
    "    G.append(0)\n",
    "    for j in range(0,len(a)):\n",
    "        if a[j][i]==\"A\":\n",
    "            A[i]+=1\n",
    "        elif a[j][i]==\"T\":\n",
    "            T[i]+=1\n",
    "        elif a[j][i]==\"C\":\n",
    "            C[i]+=1\n",
    "        else:\n",
    "            G[i]+=1\n",
    "    ll=[A[i],T[i],C[i],G[i]]#先把要比的东西放在一个list里面\n",
    "    mm=max(ll)\n",
    "    if mm==A[i]:\n",
    "        print(\"A\",end=\"\")\n",
    "    elif mm==T[i]:\n",
    "        print(\"T\",end=\"\")\n",
    "    elif mm==C[i]:\n",
    "        print(\"C\",end=\"\")\n",
    "    else:\n",
    "        print(\"G\",end=\"\")\n",
    "print(\"\\n\")\n",
    "print(\"A:\",end=\" \")\n",
    "for i in range(len(A)):\n",
    "     print(A[i],end=\" \")\n",
    "print(\"\\n\")\n",
    "print(\"C:\",end=\" \")\n",
    "for i in range(len(C)):\n",
    "     print(C[i],end=\" \")\n",
    "print(\"\\n\")\n",
    "print(\"G:\",end=\" \")\n",
    "for i in range(len(G)):\n",
    "     print(G[i],end=\" \")\n",
    "print(\"\\n\")\n",
    "print(\"T:\",end=\" \")\n",
    "for i in range(len(T)):\n",
    "     print(T[i],end=\" \")\n",
    "print(\"\\n\")\n"
   ]
  },
  {
   "cell_type": "code",
   "execution_count": 39,
   "metadata": {},
   "outputs": [
    {
     "name": "stdout",
     "output_type": "stream",
     "text": [
      "这是 Rosalind_6417\n",
      "10\n",
      "962\n",
      "Rosalind_9661\n",
      "52.91060256958008\n"
     ]
    }
   ],
   "source": [
    "#查看文件信息\n",
    "import pyfastx\n",
    "fa = pyfastx.Fasta('rosalind_cons.txt')\n",
    "print(\"这是\",fa[0].name)\n",
    "print(len(fa))\n",
    "print(len(fa[0]))\n",
    "gc_max=0#注意这个两行不要写在for循环里面，否则每次循环都会被初始化为0\n",
    "gc_maxseq=0\n",
    "for i in range(len(fa)-1):\n",
    "    if fa[i].gc_content>gc_max:\n",
    "        gc_max=fa[i].gc_content\n",
    "        gc_maxseq=fa[i].name\n",
    "print(gc_maxseq)\n",
    "print(gc_max)"
   ]
  },
  {
   "cell_type": "code",
   "execution_count": null,
   "metadata": {},
   "outputs": [],
   "source": [
    "#Python找出最大值公式：\n",
    "List = [12, 34, 2, 0, -1]\n",
    "\n",
    "Max = List[0] # 定义变量Max用来存储最大值，初始值赋值为列表中任意一个值\n",
    "\n",
    "for i in List:\n",
    "\n",
    "    if i > Max:\n",
    "\n",
    "        Max = i\n",
    "\n",
    "print(\"这个列表中最大值为：\", Max)"
   ]
  },
  {
   "cell_type": "code",
   "execution_count": 48,
   "metadata": {},
   "outputs": [],
   "source": [
    "#法二.使用biopython解决,主要看一下write文件的方法\n",
    "from Bio import SeqIO\n",
    "l = 0\n",
    "ans = []\n",
    "\n",
    "for seq_record in SeqIO.parse(\"rosalind_cons.txt\", \"fasta\"):\n",
    "\tif (l == 0):\n",
    "\t\tl = len(seq_record.seq)\n",
    "\t\tfor i in range(l):\n",
    "\t\t\tans.append({'A': 0, 'G': 0, 'C': 0, 'T':0})\n",
    "\tfor i in range(l):\n",
    "\t\tans[i][seq_record.seq[i]] += 1\n",
    "\n",
    "with open(\"out.txt\", \"w\") as fo:\n",
    "\tfor i in range(l):\n",
    "\t\tfo.write(max(ans[i], key = ans[i].get))\n",
    "\tfo.write('\\n')\n",
    "\tfor j in ['A', 'C', 'G', 'T']:\n",
    "\t\tfo.write(\"%s: \" % j)\n",
    "\t\tfor i in range(l):\n",
    "\t\t\tfo.write(\"%d \" % ans[i][j])\n",
    "\t\tfo.write(\"\\n\")\n",
    "\tfo.close()\n"
   ]
  }
 ],
 "metadata": {
  "kernelspec": {
   "display_name": "FUN",
   "language": "python",
   "name": "python3"
  },
  "language_info": {
   "codemirror_mode": {
    "name": "ipython",
    "version": 3
   },
   "file_extension": ".py",
   "mimetype": "text/x-python",
   "name": "python",
   "nbconvert_exporter": "python",
   "pygments_lexer": "ipython3",
   "version": "3.10.9"
  }
 },
 "nbformat": 4,
 "nbformat_minor": 2
}

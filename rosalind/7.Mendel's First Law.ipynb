{
 "cells": [
  {
   "cell_type": "markdown",
   "metadata": {},
   "source": [
    "# 孟德尔第一定律（设计阶乘和概率公式编写）"
   ]
  },
  {
   "cell_type": "code",
   "execution_count": 16,
   "metadata": {},
   "outputs": [
    {
     "name": "stdout",
     "output_type": "stream",
     "text": [
      "0.7361751152073732\n"
     ]
    }
   ],
   "source": [
    "#定义阶乘函数\n",
    "def main(a,b):#a>b\n",
    "    for i in range(a-1,b-1,-1):#注意range函数左闭右开\n",
    "        a*=i\n",
    "    return a\n",
    "#定义概率函数\n",
    "def C(n,k):#n>k\n",
    "    return main(n,n-k+1)/main(k,1)\n",
    "#孟德尔\n",
    "def meng(a,b,c):\n",
    "    return C(a,2)/C(a+b+c,2)+a*b/C(a+b+c,2)+a*c/C(a+b+c,2)+3/4*C(b,2)/C(a+b+c,2)+1/2*b*c/C(a+b+c,2)\n",
    "print(meng(17,27,19))"
   ]
  }
 ],
 "metadata": {
  "kernelspec": {
   "display_name": "FUN",
   "language": "python",
   "name": "python3"
  },
  "language_info": {
   "codemirror_mode": {
    "name": "ipython",
    "version": 3
   },
   "file_extension": ".py",
   "mimetype": "text/x-python",
   "name": "python",
   "nbconvert_exporter": "python",
   "pygments_lexer": "ipython3",
   "version": "3.10.9"
  }
 },
 "nbformat": 4,
 "nbformat_minor": 2
}

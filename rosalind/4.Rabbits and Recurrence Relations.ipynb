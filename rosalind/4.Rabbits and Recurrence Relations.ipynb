{
 "cells": [
  {
   "cell_type": "code",
   "execution_count": 2,
   "metadata": {},
   "outputs": [
    {
     "name": "stdout",
     "output_type": "stream",
     "text": [
      "14415648500221\n"
     ]
    }
   ],
   "source": [
    "#兔子的斐波那契额数列\n",
    "def func(n,k):\n",
    "    if n == 1 or n == 2:\n",
    "        return 1\n",
    "        print(1)\n",
    "    else:\n",
    "        return func(n-1,k) + k * func(n-2,k)\n",
    "        print(func(n-1,k) + k * func(n-2,k))\n",
    "print(func(31,5))"
   ]
  },
  {
   "cell_type": "code",
   "execution_count": 6,
   "metadata": {},
   "outputs": [
    {
     "name": "stdout",
     "output_type": "stream",
     "text": [
      "14415648500221\n"
     ]
    }
   ],
   "source": [
    "#递归函数也可以用循环实现\n",
    "#You actually only need to store the last two numbers：\n",
    "def func(n,k):\n",
    "    a,b = 1,1\n",
    "    for i in range(1,n):\n",
    "        a,b = b,k*a+b\n",
    "    return a\n",
    "\n",
    "#This version of the same code might be a bit more readable for humans:\n",
    "def fib(n, k):\n",
    "    previous1, previous2 = 1, 1\n",
    "    for i in range(n-2):#或者写成range(2,n),只是规定循环次数\n",
    "        current = previous1 + k * previous2\n",
    "        previous2 = previous1\n",
    "        previous1 = current\n",
    "    return current\n",
    "print(fib(31,5))"
   ]
  },
  {
   "cell_type": "markdown",
   "metadata": {},
   "source": [
    "更加数学的办法就是求出通项式，但这个就要算特征方程啥的，计算机方便就方便在不要动脑子"
   ]
  }
 ],
 "metadata": {
  "kernelspec": {
   "display_name": "FUN",
   "language": "python",
   "name": "python3"
  },
  "language_info": {
   "codemirror_mode": {
    "name": "ipython",
    "version": 3
   },
   "file_extension": ".py",
   "mimetype": "text/x-python",
   "name": "python",
   "nbconvert_exporter": "python",
   "pygments_lexer": "ipython3",
   "version": "3.10.9"
  }
 },
 "nbformat": 4,
 "nbformat_minor": 2
}

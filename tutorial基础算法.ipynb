{
 "cells": [
  {
   "cell_type": "markdown",
   "metadata": {},
   "source": [
    "if函数"
   ]
  },
  {
   "cell_type": "code",
   "execution_count": 5,
   "metadata": {},
   "outputs": [
    {
     "name": "stdout",
     "output_type": "stream",
     "text": [
      "yes\n"
     ]
    }
   ],
   "source": [
    "a=1\n",
    "if a>1:\n",
    "    print(\"a>1\")\n",
    "elif a==1:\n",
    "    print(\"yes\")\n",
    "else:\n",
    "    print(\"a<1\")"
   ]
  },
  {
   "cell_type": "markdown",
   "metadata": {},
   "source": [
    "# 布尔运算\n",
    "\n",
    "1&2：位逻辑与   \n",
    "\n",
    "1&&2：逻辑与 --> and\n",
    "\n",
    "not表达式 bool除了0都是真"
   ]
  },
  {
   "cell_type": "code",
   "execution_count": 6,
   "metadata": {},
   "outputs": [
    {
     "data": {
      "text/plain": [
       "False"
      ]
     },
     "execution_count": 6,
     "metadata": {},
     "output_type": "execute_result"
    }
   ],
   "source": [
    "a=True\n",
    "not a"
   ]
  },
  {
   "cell_type": "markdown",
   "metadata": {},
   "source": [
    "and运算 A and B 若A为真返回B，否则返回A\n",
    "\n",
    "or运算 优先返回为真的对象\n",
    "\n",
    "位与运算：A & B按位操作，两个对应的位都是1则结果为1，只要有一个为0则结果为0\n",
    "\n",
    "位或运算：A | B按位运算。两个位只要有一个为1则结果为1，两个对应的位都为0则结果为0\n",
    "\n",
    "位异或（半加运算）：A ^ B按位运算，两个对应的位不同结果为1，两个对应的位相同结果为0\n",
    "\n",
    "bin（x） 将x转换为二进制的字符串\n",
    "\n",
    "<<左移运算：表达式x << 整数表达式y 作用：将x的二进制值，按位数向左移动y位，低位补0"
   ]
  },
  {
   "cell_type": "code",
   "execution_count": 7,
   "metadata": {},
   "outputs": [],
   "source": [
    "x=6<<1"
   ]
  },
  {
   "cell_type": "markdown",
   "metadata": {},
   "source": [
    "\\>> 右移运算：按位向右移动y位，低位溢出丢弃\n",
    "\n",
    "~按位求反"
   ]
  },
  {
   "cell_type": "markdown",
   "metadata": {},
   "source": [
    "in & not in 成员运算符\n",
    "\n",
    "作用：in用于序列，字典，集合中，用于判断某个值是否存在于对象中"
   ]
  },
  {
   "cell_type": "code",
   "execution_count": 8,
   "metadata": {},
   "outputs": [
    {
     "name": "stdout",
     "output_type": "stream",
     "text": [
      "'to'在x字符中\n"
     ]
    }
   ],
   "source": [
    "x=\"welcome to tarena!\"\n",
    "if 'to' in x :\n",
    "    print(\"'to'在x字符中\")"
   ]
  },
  {
   "cell_type": "markdown",
   "metadata": {},
   "source": [
    "\n",
    "多条语句写在一起需要用分号（;）分隔开\n",
    "\n",
    "用折行符\\（反斜线）来示意执行器下一行也是本行的语句\n",
    "\n",
    "隐式换行，所有的括号的内容换行称为隐式换行"
   ]
  },
  {
   "cell_type": "markdown",
   "metadata": {},
   "source": [
    "基本输入输出: `input('提示字符串')`"
   ]
  },
  {
   "cell_type": "code",
   "execution_count": 9,
   "metadata": {},
   "outputs": [],
   "source": [
    "a=int(input('你的成绩是')) #int把字符串转成整数\n",
    "a\n",
    "type(a)"
   ]
  },
  {
   "cell_type": "markdown",
   "metadata": {},
   "source": [
    "关键参数的含义：\n",
    "\n",
    "sep：两个值之间的分隔符，默认为一个空格\n",
    "\n",
    "end：输出完毕后在流末尾自动追加一个字符串，默认为换行符'\\n'\n",
    "\n",
    "flush:是否立即将流进行输出\n",
    "\n",
    "file：流对象，默认为 sys.stdout"
   ]
  },
  {
   "cell_type": "code",
   "execution_count": null,
   "metadata": {},
   "outputs": [],
   "source": [
    "print(values,...,sep=' ',end='\\n',file=sys.stdout,flush=False)"
   ]
  },
  {
   "cell_type": "markdown",
   "metadata": {},
   "source": [
    "# 条件表达式：（类似三目运算符：条件运算符C？A：B）\n",
    "语法：表达式1 if 真值表达式 else 表达式2\n",
    "\n",
    "作用：如果真值表达式的布尔环境值为True，表达式1执行并返回对象，否则表达式2执行并返回对象\n",
    "\n",
    "实例：取绝对值"
   ]
  },
  {
   "cell_type": "code",
   "execution_count": null,
   "metadata": {},
   "outputs": [
    {
     "name": "stdout",
     "output_type": "stream",
     "text": [
      "9\n"
     ]
    }
   ],
   "source": [
    "x=input(\"请输入一个数字\")\n",
    "x=int(x)\n",
    "x=x if x>0 else -x"
   ]
  },
  {
   "cell_type": "markdown",
   "metadata": {},
   "source": [
    " # del语句\n",
    "\n",
    "作用：用于删除变量，同时解除与对象的关联，如果对象不被任何一个变量引用，则释放对象空间 python内部也使用GC（Garbage Collection）垃圾回收机制。\n",
    "\n",
    "语法格式：del 变量名1，变量名2,..."
   ]
  },
  {
   "cell_type": "code",
   "execution_count": null,
   "metadata": {},
   "outputs": [],
   "source": [
    "a=1   #对象1被变量a引用，对象1的引用计数器为1\n",
    "b=a   #对象1被对象b引用，对象1的引用计数器加1\n",
    "c=a   #1对象1被变量c引用，对象1的引用计数器+1\n",
    "del a #删除变量a,解除a对1的引用\n",
    "del b #删除变量b,解除b对1的引用\n",
    "print(c)  #最终变量c仍然引用1"
   ]
  },
  {
   "cell_type": "markdown",
   "metadata": {},
   "source": [
    "# 循环语句：\n",
    "作用：根据一定的条件，重复执行一个或多个语句\n",
    "\n",
    "两种循环语句：`while语句 for语句`\n",
    "\n",
    "while语句语法：\n",
    "\n",
    "while 真值表达式：\n",
    "\n",
    "语句1\n",
    "\n",
    "else：\n",
    "\n",
    "语句2\n",
    "\n",
    "（else可以省略）"
   ]
  },
  {
   "cell_type": "code",
   "execution_count": null,
   "metadata": {},
   "outputs": [
    {
     "name": "stdout",
     "output_type": "stream",
     "text": [
      "1\n",
      "3\n",
      "5\n",
      "7\n",
      "9\n",
      "11\n",
      "13\n",
      "15\n",
      "17\n",
      "19\n"
     ]
    }
   ],
   "source": [
    "#练习：打印1-20的奇数\n",
    "n=1\n",
    "while 2*n-1<20:\n",
    "    print(2*n-1)\n",
    "    n=n+1"
   ]
  },
  {
   "cell_type": "markdown",
   "metadata": {},
   "source": [
    "for循环语句\n",
    "\n",
    "for语句可以用来遍历序列或可迭代对象的每一个元素\n",
    "\n",
    "可迭代对象包括：字符串str 列表list 元组 tuple 字典 dict 集合 set 固定集合frozenset  迭代器\n",
    "\n",
    "for语句的语法：\n",
    "\n",
    "for 变量列表 in 可迭代对象：\n",
    "\n",
    "    语句1：\n",
    "\n",
    "else：\n",
    "\n",
    "    语句2（else可省略）"
   ]
  },
  {
   "cell_type": "markdown",
   "metadata": {},
   "source": [
    "`range(stop)`函数 从0开始生成一串整数\n",
    "`range(start,stop,step)`"
   ]
  },
  {
   "cell_type": "code",
   "execution_count": null,
   "metadata": {},
   "outputs": [
    {
     "name": "stdout",
     "output_type": "stream",
     "text": [
      "yes\n",
      "yes\n",
      "yes\n",
      "yes\n",
      "yes\n",
      "yes\n",
      "yes\n",
      "yes\n",
      "yes\n"
     ]
    }
   ],
   "source": [
    "for i in range(1,10,1):\n",
    "    print(\"yes\")"
   ]
  },
  {
   "cell_type": "code",
   "execution_count": null,
   "metadata": {},
   "outputs": [
    {
     "name": "stdout",
     "output_type": "stream",
     "text": [
      "The \"break\" statement\n",
      "*********************\n",
      "\n",
      "   break_stmt ::= \"break\"\n",
      "\n",
      "\"break\" may only occur syntactically nested in a \"for\" or \"while\"\n",
      "loop, but not nested in a function or class definition within that\n",
      "loop.\n",
      "\n",
      "It terminates the nearest enclosing loop, skipping the optional \"else\"\n",
      "clause if the loop has one.\n",
      "\n",
      "If a \"for\" loop is terminated by \"break\", the loop control target\n",
      "keeps its current value.\n",
      "\n",
      "When \"break\" passes control out of a \"try\" statement with a \"finally\"\n",
      "clause, that \"finally\" clause is executed before really leaving the\n",
      "loop.\n",
      "\n",
      "Related help topics: while, for\n",
      "\n"
     ]
    }
   ],
   "source": [
    "# break()语句用于循环语句（while，for）中，用来终止当前循环语句，通常和if语句组合使用\n",
    "help(\"break\")"
   ]
  },
  {
   "cell_type": "markdown",
   "metadata": {},
   "source": [
    "continue语句\n",
    "自己看看吧 while for执行一半"
   ]
  }
 ],
 "metadata": {
  "kernelspec": {
   "display_name": "Python 3",
   "language": "python",
   "name": "python3"
  },
  "language_info": {
   "codemirror_mode": {
    "name": "ipython",
    "version": 3
   },
   "file_extension": ".py",
   "mimetype": "text/x-python",
   "name": "python",
   "nbconvert_exporter": "python",
   "pygments_lexer": "ipython3",
   "version": "3.10.9"
  },
  "orig_nbformat": 4
 },
 "nbformat": 4,
 "nbformat_minor": 2
}

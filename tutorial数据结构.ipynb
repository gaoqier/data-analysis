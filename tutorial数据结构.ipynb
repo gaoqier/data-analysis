{
 "cells": [
  {
   "cell_type": "markdown",
   "metadata": {},
   "source": [
    "# 字符串 str()\n",
    "\n",
    "连续的一串字符，以\\0为结束值 和C不一样的是python没有char这个概念\n",
    "\n",
    "#转义字符\n",
    "\n",
    "\\' 代表单个单引号\n",
    "\n",
    "\\\" 代表一个双引号\n",
    "\n",
    "\\n 换行符"
   ]
  },
  {
   "cell_type": "code",
   "execution_count": 1,
   "metadata": {},
   "outputs": [
    {
     "name": "stdout",
     "output_type": "stream",
     "text": [
      "hello\u0007\n"
     ]
    }
   ],
   "source": [
    "print(\"hello\\a\")#不响铃啊哈哈"
   ]
  },
  {
   "cell_type": "markdown",
   "metadata": {},
   "source": [
    "# raw 转义失效\n",
    "格式：r'字符串内容'"
   ]
  },
  {
   "cell_type": "markdown",
   "metadata": {},
   "source": [
    "# 查看ASCII编码\n",
    "\n",
    "把英文字母、数字和常用标点每个字符做了统一编码\n",
    "\n",
    "linux下输入：man ascii<回车>\n",
    "\n",
    "# unicode编码\n",
    "utf-8是unicode最常用的实现方式\n",
    "\n",
    "# GB2312编码\n",
    "\n",
    "# GBK编码\n",
    "\n",
    "python源码中默认的存储方式是ASCII，如果定义的字符串超出了127的编码，必须指定一种编码方式（对于汉字，Linux、下使用utf-8，windoows使用gbk）才能正常使用。\n",
    "\n",
    "指定的方法：1.在源码文件第一行写coding=utf-8或coding=gbk\n",
    "2.import sys"
   ]
  },
  {
   "cell_type": "markdown",
   "metadata": {},
   "source": [
    "# 隐式拼接"
   ]
  },
  {
   "cell_type": "code",
   "execution_count": 7,
   "metadata": {},
   "outputs": [
    {
     "data": {
      "text/plain": [
       "'123456'"
      ]
     },
     "execution_count": 7,
     "metadata": {},
     "output_type": "execute_result"
    }
   ],
   "source": [
    "a=\"123\"\"456\"\n",
    "b='123'+'456'\n",
    "b\n"
   ]
  },
  {
   "cell_type": "markdown",
   "metadata": {},
   "source": [
    "# 索引 and 切片"
   ]
  },
  {
   "cell_type": "code",
   "execution_count": null,
   "metadata": {},
   "outputs": [],
   "source": [
    "a=\"1234567890\"\n",
    "a[0]#1\n",
    "a[9]#0\n",
    "a[3:6]#'456'，注意左闭右开"
   ]
  },
  {
   "cell_type": "markdown",
   "metadata": {},
   "source": [
    "# 常用字符串操作函数\n",
    "python3中常用的序列函数\n",
    "\n",
    "len(s) 返回长度\n",
    "\n",
    "max(x) 返回序列最大值\n",
    "\n",
    "min(x) 返回序列最小值\n",
    "\n",
    "ord() 返回一个字符发编码值\n",
    "\n",
    "chr(i) 返回i对应的字符\n",
    "\n",
    "bin(i) 将整数转换为二进制字符串\n",
    "\n",
    "hex(i) 将整数转换为十六进制字符串\n",
    "\n",
    "oct(i) 将整数转换为八进制字符串\n",
    "\n",
    "str()   \n",
    "int()   \n",
    "float()   \n",
    "complex( )"
   ]
  },
  {
   "cell_type": "markdown",
   "metadata": {},
   "source": [
    "# 序列类型简介（Sequence）\n",
    "列表 list\n",
    "\n",
    "元组 tuple\n",
    "\n",
    "字典 dict\n",
    "\n",
    "集合 set \n",
    "\n",
    "# 列表\n",
    "列表是由一系列特定元素组成的，元素之间可能没有任何联系，但是之间有先后顺序关系，python中的list可以看作是一种支持泛型的序列（sequence）\n",
    "\n",
    "列表可以改变各个元素的值，列表是一种容器\n",
    "\n",
    "空列表：\n",
    "\n",
    "L=[ ]\n",
    "\n",
    "创建非空列表：\n",
    "\n",
    "L=[1，2，3，4]\n",
    "\n",
    "L=[\"Beijing\",\"Shanghai\",\"Shenzhen\"]"
   ]
  },
  {
   "cell_type": "code",
   "execution_count": 3,
   "metadata": {},
   "outputs": [
    {
     "data": {
      "text/plain": [
       "['hello']"
      ]
     },
     "execution_count": 3,
     "metadata": {},
     "output_type": "execute_result"
    }
   ],
   "source": [
    "b=list('hello')#这个b是会被拆分的\n",
    "b\n",
    "a=[\"hello\"]\n",
    "a"
   ]
  },
  {
   "cell_type": "code",
   "execution_count": null,
   "metadata": {},
   "outputs": [
    {
     "data": {
      "text/plain": [
       "[1, 2.3, 4, 5, 6]"
      ]
     },
     "execution_count": 4,
     "metadata": {},
     "output_type": "execute_result"
    }
   ],
   "source": [
    "#加号运算用于拼接列表\n",
    "x=[1,2,3]\n",
    "y=[4,5,6]\n",
    "x+y"
   ]
  },
  {
   "cell_type": "code",
   "execution_count": null,
   "metadata": {},
   "outputs": [
    {
     "data": {
      "text/plain": [
       "[1, 2, 1, 2, 1, 2]"
      ]
     },
     "execution_count": 5,
     "metadata": {},
     "output_type": "execute_result"
    }
   ],
   "source": [
    "#乘号用于生成重复的列表\n",
    "x=[1,2]*3\n",
    "x"
   ]
  },
  {
   "cell_type": "code",
   "execution_count": null,
   "metadata": {},
   "outputs": [],
   "source": [
    "#列表的比较\n",
    "# >  >= == !=  列表对比要求对应位置元素类型相同"
   ]
  },
  {
   "cell_type": "code",
   "execution_count": null,
   "metadata": {},
   "outputs": [
    {
     "data": {
      "text/plain": [
       "True"
      ]
     },
     "execution_count": 6,
     "metadata": {},
     "output_type": "execute_result"
    }
   ],
   "source": [
    "#列表的in/not in 运算符\n",
    "x=[1,'two',3.0,\"four\"]\n",
    "1 in x"
   ]
  },
  {
   "cell_type": "markdown",
   "metadata": {},
   "source": [
    "list和string的索引和切片规则是一样的 并不一样的是string不能指定元素改变但是list可以"
   ]
  },
  {
   "cell_type": "markdown",
   "metadata": {},
   "source": [
    "# 切片赋值 \n",
    "切片赋值可以改变原列表的排序，及插入删除数据\n",
    "\n",
    "列表中可以用切片改变对应元素的值"
   ]
  },
  {
   "cell_type": "code",
   "execution_count": 6,
   "metadata": {},
   "outputs": [
    {
     "data": {
      "text/plain": [
       "[0.1, 2, 0.3, 4, 0.5]"
      ]
     },
     "execution_count": 6,
     "metadata": {},
     "output_type": "execute_result"
    }
   ],
   "source": [
    "L=[1,2,3,4,5]\n",
    "L2=L\n",
    "L3=L[::2]#[1,3,5] ：：前面是起点，后面是步长\n",
    "L[::2]=[.1,.3,.5]\n",
    "L"
   ]
  },
  {
   "cell_type": "markdown",
   "metadata": {},
   "source": [
    "1）对于步长为1的切片赋值：\n",
    "\n",
    "完成的功能是连续替换，等号左右总数可以不等"
   ]
  },
  {
   "cell_type": "code",
   "execution_count": null,
   "metadata": {},
   "outputs": [],
   "source": [
    "#例\n",
    "L=[2,3,4]\n",
    "L[0:1]=[1.1,2.2] #L=[1.1,2.2,3,4]\n",
    "L[2:]"
   ]
  },
  {
   "cell_type": "markdown",
   "metadata": {},
   "source": [
    "2）对于步长大于1的切片赋值：\n",
    "\n",
    "完成的功能是注意替换，因此等号左右数要一致，否则会出现赋值错误\n",
    "\n",
    "3）切片被字符串赋值时，字符串是按字符去替换"
   ]
  },
  {
   "cell_type": "code",
   "execution_count": null,
   "metadata": {},
   "outputs": [],
   "source": [
    "L=[1,2,3,4,5,6]\n",
    "L[::2]=\"ABC\" #L=['A',2,'B',4,'C',6]\n",
    "L[::2]=\"ABCD\" #错的"
   ]
  },
  {
   "cell_type": "markdown",
   "metadata": {},
   "source": [
    "# python中常用的序列函数\n",
    "\n",
    "len(x) 返回序列长度\n",
    "\n",
    "max(x) min(x) sum(x)\n",
    "\n",
    "any(x) 真值测试，如果列表其中一个值为真值，则返回True\n",
    "\n",
    "all(x) 真值测试，如果列表中所有值都为真值则返回True"
   ]
  },
  {
   "cell_type": "markdown",
   "metadata": {},
   "source": [
    "# python3中列表的常用属性方法\n",
    "help(list)"
   ]
  },
  {
   "cell_type": "code",
   "execution_count": 8,
   "metadata": {},
   "outputs": [
    {
     "name": "stdout",
     "output_type": "stream",
     "text": [
      "Help on class list in module builtins:\n",
      "\n",
      "class list(object)\n",
      " |  list(iterable=(), /)\n",
      " |  \n",
      " |  Built-in mutable sequence.\n",
      " |  \n",
      " |  If no argument is given, the constructor creates a new empty list.\n",
      " |  The argument must be an iterable if specified.\n",
      " |  \n",
      " |  Methods defined here:\n",
      " |  \n",
      " |  __add__(self, value, /)\n",
      " |      Return self+value.\n",
      " |  \n",
      " |  __contains__(self, key, /)\n",
      " |      Return key in self.\n",
      " |  \n",
      " |  __delitem__(self, key, /)\n",
      " |      Delete self[key].\n",
      " |  \n",
      " |  __eq__(self, value, /)\n",
      " |      Return self==value.\n",
      " |  \n",
      " |  __ge__(self, value, /)\n",
      " |      Return self>=value.\n",
      " |  \n",
      " |  __getattribute__(self, name, /)\n",
      " |      Return getattr(self, name).\n",
      " |  \n",
      " |  __getitem__(...)\n",
      " |      x.__getitem__(y) <==> x[y]\n",
      " |  \n",
      " |  __gt__(self, value, /)\n",
      " |      Return self>value.\n",
      " |  \n",
      " |  __iadd__(self, value, /)\n",
      " |      Implement self+=value.\n",
      " |  \n",
      " |  __imul__(self, value, /)\n",
      " |      Implement self*=value.\n",
      " |  \n",
      " |  __init__(self, /, *args, **kwargs)\n",
      " |      Initialize self.  See help(type(self)) for accurate signature.\n",
      " |  \n",
      " |  __iter__(self, /)\n",
      " |      Implement iter(self).\n",
      " |  \n",
      " |  __le__(self, value, /)\n",
      " |      Return self<=value.\n",
      " |  \n",
      " |  __len__(self, /)\n",
      " |      Return len(self).\n",
      " |  \n",
      " |  __lt__(self, value, /)\n",
      " |      Return self<value.\n",
      " |  \n",
      " |  __mul__(self, value, /)\n",
      " |      Return self*value.\n",
      " |  \n",
      " |  __ne__(self, value, /)\n",
      " |      Return self!=value.\n",
      " |  \n",
      " |  __repr__(self, /)\n",
      " |      Return repr(self).\n",
      " |  \n",
      " |  __reversed__(self, /)\n",
      " |      Return a reverse iterator over the list.\n",
      " |  \n",
      " |  __rmul__(self, value, /)\n",
      " |      Return value*self.\n",
      " |  \n",
      " |  __setitem__(self, key, value, /)\n",
      " |      Set self[key] to value.\n",
      " |  \n",
      " |  __sizeof__(self, /)\n",
      " |      Return the size of the list in memory, in bytes.\n",
      " |  \n",
      " |  append(self, object, /)\n",
      " |      Append object to the end of the list.\n",
      " |  \n",
      " |  clear(self, /)\n",
      " |      Remove all items from list.\n",
      " |  \n",
      " |  copy(self, /)\n",
      " |      Return a shallow copy of the list.\n",
      " |  \n",
      " |  count(self, value, /)\n",
      " |      Return number of occurrences of value.\n",
      " |  \n",
      " |  extend(self, iterable, /)\n",
      " |      Extend list by appending elements from the iterable.\n",
      " |  \n",
      " |  index(self, value, start=0, stop=9223372036854775807, /)\n",
      " |      Return first index of value.\n",
      " |      \n",
      " |      Raises ValueError if the value is not present.\n",
      " |  \n",
      " |  insert(self, index, object, /)\n",
      " |      Insert object before index.\n",
      " |  \n",
      " |  pop(self, index=-1, /)\n",
      " |      Remove and return item at index (default last).\n",
      " |      \n",
      " |      Raises IndexError if list is empty or index is out of range.\n",
      " |  \n",
      " |  remove(self, value, /)\n",
      " |      Remove first occurrence of value.\n",
      " |      \n",
      " |      Raises ValueError if the value is not present.\n",
      " |  \n",
      " |  reverse(self, /)\n",
      " |      Reverse *IN PLACE*.\n",
      " |  \n",
      " |  sort(self, /, *, key=None, reverse=False)\n",
      " |      Sort the list in ascending order and return None.\n",
      " |      \n",
      " |      The sort is in-place (i.e. the list itself is modified) and stable (i.e. the\n",
      " |      order of two equal elements is maintained).\n",
      " |      \n",
      " |      If a key function is given, apply it once to each list item and sort them,\n",
      " |      ascending or descending, according to their function values.\n",
      " |      \n",
      " |      The reverse flag can be set to sort in descending order.\n",
      " |  \n",
      " |  ----------------------------------------------------------------------\n",
      " |  Class methods defined here:\n",
      " |  \n",
      " |  __class_getitem__(...) from builtins.type\n",
      " |      See PEP 585\n",
      " |  \n",
      " |  ----------------------------------------------------------------------\n",
      " |  Static methods defined here:\n",
      " |  \n",
      " |  __new__(*args, **kwargs) from builtins.type\n",
      " |      Create and return a new object.  See help(type) for accurate signature.\n",
      " |  \n",
      " |  ----------------------------------------------------------------------\n",
      " |  Data and other attributes defined here:\n",
      " |  \n",
      " |  __hash__ = None\n",
      "\n"
     ]
    }
   ],
   "source": [
    "help(list)"
   ]
  },
  {
   "cell_type": "code",
   "execution_count": 21,
   "metadata": {},
   "outputs": [
    {
     "data": {
      "text/plain": [
       "2"
      ]
     },
     "execution_count": 21,
     "metadata": {},
     "output_type": "execute_result"
    }
   ],
   "source": [
    "L.index(v[,begin[,end]]) #返回对应元素的索引下标，begin为开始索引，end为结束索引\n",
    "#eg\n",
    "A=[1,2,1,3]\n",
    "A.index(1,0) #出现的列表元素1是第几个 从0（第一位）开始 #0\n",
    "A.index(1,1) #出现的列表元素1是第几个，从1（第二位）开始 #2"
   ]
  },
  {
   "cell_type": "code",
   "execution_count": null,
   "metadata": {},
   "outputs": [],
   "source": [
    "L.insert(index,obj) #将某个元素插放到列表中指定的位置\n",
    "L.count(x) #返回列表中元素的个数\n",
    "L.remove(x) #从列表中删除第一次出现在列表中的值\n",
    "L.copy() #复制此列表（只复制一层，不进行深层复制）\n",
    "L.append(x) #在列表尾部添加单个元素\n",
    "L.extend(lst) #向列表追加另一个列表\n",
    "L.clear() #清空列表，等同于L[:]=[]\n",
    "L.sort(reverse=False) #将列表的顺序按值的小到大顺序进行排序，reverse=True（降序）\n",
    "L.reverse() #列表反转\n",
    "L.pop(index) #删除索引对应的元素，如果不加索引，默认删除最后元素，同时返回移除元素"
   ]
  },
  {
   "cell_type": "code",
   "execution_count": null,
   "metadata": {},
   "outputs": [],
   "source": [
    "#列表嵌套\n",
    "L=[20,21,22]\n",
    "L1=[10,L,30]\n",
    "print(L1) #[10,[20,21,22],30] 二位数组"
   ]
  },
  {
   "cell_type": "markdown",
   "metadata": {},
   "source": [
    "浅拷贝和深拷贝"
   ]
  },
  {
   "cell_type": "code",
   "execution_count": 1,
   "metadata": {},
   "outputs": [
    {
     "name": "stdout",
     "output_type": "stream",
     "text": [
      "[10, [21, 22, 25], 30]\n",
      "[10, [21, 22, 25], 30]\n"
     ]
    }
   ],
   "source": [
    "#复制列表：深拷贝和浅拷贝\n",
    "L=[21,22,23]\n",
    "L1=[10,L,30]\n",
    "L2=L1.copy() #浅拷贝\n",
    "L[2]=25\n",
    "print(L1) #[10,[21,22,25],30]\n",
    "print(L2) #[10,[21,22,25],30]\n",
    "#总结：L.copy()和切片复制都是浅拷贝"
   ]
  },
  {
   "cell_type": "code",
   "execution_count": 2,
   "metadata": {},
   "outputs": [
    {
     "name": "stdout",
     "output_type": "stream",
     "text": [
      "[10, [21, 22, 25], 30]\n",
      "[10, [21, 22, 23], 30]\n"
     ]
    }
   ],
   "source": [
    "#深拷贝 deep copy 将对象逐层复制（复制后的对象完全独立）\n",
    "import copy #导入copy模块\n",
    "L=[21,22,23]\n",
    "L1=[10,L,30]\n",
    "L2=copy.deepcopy(L1)\n",
    "L[2]=25\n",
    "print(L1) #[10,[21,22,25],30]\n",
    "print(L2) #[10,[21,22,23],30]"
   ]
  },
  {
   "cell_type": "code",
   "execution_count": null,
   "metadata": {},
   "outputs": [],
   "source": [
    "#del运算符用于删除列表元素\n",
    "cities=['北京','上海','广州','深圳','杭州']\n",
    "#删除广州\n",
    "cities.remove('广州')\n",
    "cities.pop(2)\n",
    "del cities[2] #删除列表中的[2]元素\n",
    "del cities[0:2] #删除[0],[1]元素"
   ]
  },
  {
   "cell_type": "code",
   "execution_count": null,
   "metadata": {},
   "outputs": [],
   "source": [
    "#列表是可迭代对象\n",
    "L=[2,3,4]\n",
    "for x in L:\n",
    "    print(x,end=' ') #2 3 4"
   ]
  },
  {
   "cell_type": "code",
   "execution_count": null,
   "metadata": {},
   "outputs": [],
   "source": [
    "#列表推导式（list comprehension）\n",
    "#列表推导式是可用迭代对象，依次生成列表内元素的方式\n",
    "#语法：[表达式 for 变量 in 可迭代对象]\n",
    "#或者：[表达式 for 变量 in 可迭代对象 if 条件]\n",
    "#eg 要生成如下列表 [1,4,9,16,...]\n",
    "L=[x**2 for x in range(1,10)] #x**2是表达式，x是变量，range(1,10)是可迭代对象\n",
    "#相当于\n",
    "k=0 \n",
    "for i in x:\n",
    "    L[k]=i**2\n",
    "    k+=1\n",
    "#eg 生成[1,4,9,16,...,81]中的偶数\n",
    "L=[x**2 for x in range(1,10) if x**2%2==0] #x**2是表达式，x是变量，range(1,10)是可迭代对象"
   ]
  },
  {
   "cell_type": "code",
   "execution_count": null,
   "metadata": {},
   "outputs": [],
   "source": [
    "#列表推导式的嵌套\n",
    "#语法：[表达式 for 变量1 in 可迭代对象1 for 变量2 in 可迭代对象2]\n",
    "#eg：将列表[2,3,5]中的元素与列表[7,11,13]的元素分别相乘，将得到的元素放在一个列表中\n",
    "L=[x*y for x in [2,3,5] for y in [7,11,13]] #[14,22,26,21,33,39,35,55,65]"
   ]
  },
  {
   "cell_type": "markdown",
   "metadata": {},
   "source": [
    "# 列表和字符串的比较：\n",
    "1.都是序列，有先后顺序\n",
    "\n",
    "2.列表是可变的，字符串是不可变的\n",
    "\n",
    "3.列表可以存储任意类型的数，字符串只能存储字符\n",
    "\n",
    "# 字符串的文本解析方法：\n",
    "S.split(sep=None) 将字符串S分割为字符串列表\n",
    "S.join(iterable) 将可迭代对象进行拼接，中间用字符串进行分割"
   ]
  },
  {
   "cell_type": "code",
   "execution_count": 3,
   "metadata": {},
   "outputs": [
    {
     "data": {
      "text/plain": [
       "['hello']"
      ]
     },
     "execution_count": 3,
     "metadata": {},
     "output_type": "execute_result"
    }
   ],
   "source": [
    "#例：\n",
    "s='hello'\n",
    "words=s.split(sep=None) \n",
    "words"
   ]
  },
  {
   "cell_type": "code",
   "execution_count": 4,
   "metadata": {},
   "outputs": [
    {
     "data": {
      "text/plain": [
       "['welcone', 'to', 'London']"
      ]
     },
     "execution_count": 4,
     "metadata": {},
     "output_type": "execute_result"
    }
   ],
   "source": [
    "s='welcone to London'\n",
    "words=s.split(sep=' ') #['welcome','to','London']\n",
    "words"
   ]
  },
  {
   "cell_type": "markdown",
   "metadata": {},
   "source": [
    "# 元组 tuple\n",
    "元组是不可改变的序列，同list一样，元组可以存放任意的值\n",
    "。表示方法：用小括号()括起来\n",
    "。单个元素括起来后加逗号(,),区分单个对象还是元组"
   ]
  },
  {
   "cell_type": "code",
   "execution_count": null,
   "metadata": {},
   "outputs": [],
   "source": [
    "#创建一个非空的元组\n",
    "t=(20,) #含有一个元素的元组\n",
    "t1=20, #含有一个元素的元组\n",
    "t=(1,2,3)\n",
    "t=100,200,300\n",
    "t='hello'\n",
    "#创建元组的错误示范：\n",
    "t=(20) #type(t)是int"
   ]
  },
  {
   "cell_type": "code",
   "execution_count": 2,
   "metadata": {},
   "outputs": [],
   "source": [
    "#序列赋值\n",
    "x,y=100,200 #x=100,y=200\n",
    "x,y=(100,200) #x=100,y=200\n",
    "x,y=[100,200] #x=100,y=200\n",
    "x,y='ab' #x='a',y='b'"
   ]
  },
  {
   "cell_type": "code",
   "execution_count": null,
   "metadata": {},
   "outputs": [],
   "source": [
    "#元组的构造（生成）函数tuple\n",
    "tuple() #生成一个空元组\n",
    "tuple(iterable) #将可迭代对象转换为元组"
   ]
  },
  {
   "cell_type": "markdown",
   "metadata": {},
   "source": [
    "其他性质和list类似，只是不能改"
   ]
  },
  {
   "cell_type": "markdown",
   "metadata": {},
   "source": [
    "# 字典 dict\n",
    "什么是字典\n",
    "\n",
    "1.字典是一种可变的容器，可以存储任意类型的数据\n",
    "\n",
    "2.字典中的每个数据都是用“键”（key）进行索引，而不像序列可以用下标进行索引\n",
    "\n",
    "3.字典中的数据没有先后关系，字典的存储是无序的\n",
    "\n",
    "4.字典的数据是以键（key）-值（value）对的形式进行存储的\n",
    "\n",
    "5.字典的表示方法是以{ }括起来，以冒号（：）分割的键值对，各键值对之间用逗号分隔开\n",
    "\n",
    "6.字典的键不能重复"
   ]
  },
  {
   "cell_type": "code",
   "execution_count": 5,
   "metadata": {},
   "outputs": [
    {
     "name": "stdout",
     "output_type": "stream",
     "text": [
      "None\n"
     ]
    }
   ],
   "source": [
    "#创建空字典的方法：\n",
    "d={} #空字典\n",
    "d=dict() #空字典\n",
    "\n",
    "#创建非空的字典的方法：\n",
    "d={\"name\":\"angel\",\"age\":35}\n",
    "d={\"name\":None,\"age\":1}\n",
    "#查询\n",
    "print(d[\"name\"]) #angel\n",
    "\n",
    "#以下写法可能存在问题\n",
    "d={\"a\":1,\"b\":2,\"a\":1.1} #去掉重复的键"
   ]
  },
  {
   "cell_type": "markdown",
   "metadata": {},
   "source": [
    "字典的值（value）可以为任意类型\n",
    "\n",
    "字典的值可以是布尔值，数据，字符串，none\n",
    "\n",
    "字典的key必须是不可变类型的值：bool、int、float、complex、str、tuple、frozenset（固定集合，后面会讲）\n",
    "\n",
    "不能充当键的类型有：列表list，字典dict，集合set(后面会讲)\n",
    "\n",
    "例如：{\"a\":\"a\"} {100:\"100\"} {True:\"True\"}"
   ]
  },
  {
   "cell_type": "code",
   "execution_count": 1,
   "metadata": {},
   "outputs": [
    {
     "name": "stdout",
     "output_type": "stream",
     "text": [
      "姓名： angel 年龄： 15\n"
     ]
    }
   ],
   "source": [
    "#字典的基本操作：\n",
    "#字典的访问：用[]运算符访问字典内的成员：字典[键]\n",
    "d={\"name\":\"angel\",\"age\":15}\n",
    "print(\"姓名：\",d[\"name\"],\"年龄：\",d[\"age\"]) #姓名： angel 年龄： 15"
   ]
  },
  {
   "cell_type": "code",
   "execution_count": 3,
   "metadata": {},
   "outputs": [
    {
     "name": "stdout",
     "output_type": "stream",
     "text": [
      "1 : 100\n",
      "2 : 200\n",
      "3 : 300\n"
     ]
    }
   ],
   "source": [
    "#字典的遍历\n",
    "d={1:100,2:200,3:300}\n",
    "for k,v in d.items():\n",
    "    print(k,\":\",v)\n"
   ]
  },
  {
   "cell_type": "code",
   "execution_count": null,
   "metadata": {},
   "outputs": [],
   "source": [
    "#添加/修改字典的元素\n",
    "#字典[键]=值\n",
    "#例如：\n",
    "d={}\n",
    "d[\"name\"]=\"angel\" #添加\n",
    "d[\"name\"]=\"jack\" #修改"
   ]
  },
  {
   "cell_type": "code",
   "execution_count": null,
   "metadata": {},
   "outputs": [],
   "source": [
    "#删除字典元素del\n",
    "#del 字典[键]\n",
    "#例：\n",
    "del d[\"name\"]#删除键为\"name\"的元素和对应的值"
   ]
  },
  {
   "cell_type": "code",
   "execution_count": null,
   "metadata": {},
   "outputs": [],
   "source": [
    "#字典的成员资格判断in/not in运算符\n",
    "#可以用in/not in运算符判断字典中是否存在某个键,如果存在返回True,否则返回False\n",
    "#not in 与 in 相反\n",
    "d={\"name\":\"angel\",\"age\":15}\n",
    "print(\"name\" in d) #True\n",
    "print(\"angel\" in d) #False\")"
   ]
  },
  {
   "cell_type": "code",
   "execution_count": 4,
   "metadata": {},
   "outputs": [
    {
     "data": {
      "text/plain": [
       "5"
      ]
     },
     "execution_count": 4,
     "metadata": {},
     "output_type": "execute_result"
    }
   ],
   "source": [
    "#字典的基本函数操作（注意都是对key操作的）：\n",
    "#len(d) #返回字典d中元素的个数\n",
    "#max(d) #返回字典d中键的最大值\n",
    "#min(d) #返回字典d中键的最小值\n",
    "#sum(d) #返回字典d中键的和\n",
    "#any(d) #如果字典d中键的值全为0或False,则返回False,否则返回True\n",
    "#all(d) #如果字典d中键的值全为0或False,则返回False,否则返回True\n",
    "d={1:500,2:400,3:300,4:200,5:100}\n",
    "max(d)#5"
   ]
  },
  {
   "cell_type": "markdown",
   "metadata": {},
   "source": [
    "个人感觉最大的区别在于字典的元素名称比较好找"
   ]
  },
  {
   "cell_type": "code",
   "execution_count": null,
   "metadata": {},
   "outputs": [],
   "source": [
    "#字典的生成函数：\n",
    "dict( ) #生成一个字典 等同于{ }\n",
    "dict(iterable) #将可迭代对象转换为字典\n",
    "dict(**kwargs) #将关键字参数转换为字典\n",
    "d=dict(name=\"angel\",age=15) #d={\"name\":\"angel\",\"age\":15}\n",
    "d=dict([(\"name\",\"angel\"),(\"age\",15)]) #d={\"name\":\"angel\",\"age\":15}"
   ]
  },
  {
   "cell_type": "markdown",
   "metadata": {},
   "source": [
    "字典的方法：\n",
    "\n",
    "D代表字典对象\n",
    "\n",
    "D.clear() 清空字典\n",
    "\n",
    "D.pop(key) 移除键，同时返回此键对应的值\n",
    "\n",
    "D.copy() 返回字典D的副本，浅拷贝\n",
    "\n",
    "D.update(D2) 将字典D2合并到D中，如果键相同，则此键的值取D2的值作为新值\n",
    "\n",
    "D.get(key,default) 返回键key所对应的值，如果没有此键则返回default\n",
    "\n",
    "D.keys() 返回可迭代的dict_keys集合对象\n",
    "\n",
    "D.values() 返回可迭代的dict_values值对象\n",
    "\n",
    "D.items() 返回可迭代的dict_items对象"
   ]
  },
  {
   "cell_type": "code",
   "execution_count": null,
   "metadata": {},
   "outputs": [],
   "source": [
    "#字典推导式\n",
    "#语法：{键表达式：值表达式 for 变量 in 可迭代对象（if条件表达式）}\n",
    "#eg：生成字典{1:1,2:4,3:9,...,10:100}\n",
    "d={x:x**2 for x in range(1,11)}\n",
    "#eg：生成字典{1:1,2:8,3:27,...,10:1000}中的偶数\n",
    "d={x:x**3 for x in range(1,11) if x**3%2==0}\n",
    "#eg\n",
    "numbers=[1001,1002,1003,1004]\n",
    "names=[\"angel\",\"jack\",\"tom\",\"bob\"]\n",
    "animals={numbers[i]:names[i] for i in range(len(numbers))}\n",
    "#我本来还挺迷惑为啥上面的可以用list做key，后来发现是因为numbers[i]是int，而不是list\n"
   ]
  },
  {
   "cell_type": "markdown",
   "metadata": {},
   "source": [
    "#集合\n",
    "\n",
    "集合是可变的容器\n",
    "\n",
    "集合内的数据对象都是唯一的（不能重复多次）\n",
    "\n",
    "集合是无序的存储结构，集合中的数据没有先后关系\n",
    "\n",
    "集合相当于只有键没有值的字典，则键是集合的数据\n",
    "\n",
    "集合内的元素必须是不可变对象\n",
    "\n",
    "集合是可迭代的（可以用for等遍历）"
   ]
  },
  {
   "cell_type": "code",
   "execution_count": 9,
   "metadata": {},
   "outputs": [
    {
     "ename": "NameError",
     "evalue": "name 'iterable' is not defined",
     "output_type": "error",
     "traceback": [
      "\u001b[0;31m---------------------------------------------------------------------------\u001b[0m",
      "\u001b[0;31mNameError\u001b[0m                                 Traceback (most recent call last)",
      "\u001b[1;32m/home/angel/Temp/数据分析/tutorial数据结构.ipynb 单元格 58\u001b[0m line \u001b[0;36m4\n\u001b[1;32m      <a href='vscode-notebook-cell://wsl%2Bubuntu/home/angel/Temp/%E6%95%B0%E6%8D%AE%E5%88%86%E6%9E%90/tutorial%E6%95%B0%E6%8D%AE%E7%BB%93%E6%9E%84.ipynb#Y112sdnNjb2RlLXJlbW90ZQ%3D%3D?line=1'>2</a>\u001b[0m s\u001b[39m=\u001b[39m\u001b[39mset\u001b[39m() \n\u001b[1;32m      <a href='vscode-notebook-cell://wsl%2Bubuntu/home/angel/Temp/%E6%95%B0%E6%8D%AE%E5%88%86%E6%9E%90/tutorial%E6%95%B0%E6%8D%AE%E7%BB%93%E6%9E%84.ipynb#Y112sdnNjb2RlLXJlbW90ZQ%3D%3D?line=2'>3</a>\u001b[0m \u001b[39m#生成非空集合：\u001b[39;00m\n\u001b[0;32m----> <a href='vscode-notebook-cell://wsl%2Bubuntu/home/angel/Temp/%E6%95%B0%E6%8D%AE%E5%88%86%E6%9E%90/tutorial%E6%95%B0%E6%8D%AE%E7%BB%93%E6%9E%84.ipynb#Y112sdnNjb2RlLXJlbW90ZQ%3D%3D?line=3'>4</a>\u001b[0m \u001b[39mset\u001b[39m(iterable) \u001b[39m#将可迭代对象转换为集合\u001b[39;00m\n\u001b[1;32m      <a href='vscode-notebook-cell://wsl%2Bubuntu/home/angel/Temp/%E6%95%B0%E6%8D%AE%E5%88%86%E6%9E%90/tutorial%E6%95%B0%E6%8D%AE%E7%BB%93%E6%9E%84.ipynb#Y112sdnNjb2RlLXJlbW90ZQ%3D%3D?line=4'>5</a>\u001b[0m \u001b[39m#例：\u001b[39;00m\n\u001b[1;32m      <a href='vscode-notebook-cell://wsl%2Bubuntu/home/angel/Temp/%E6%95%B0%E6%8D%AE%E5%88%86%E6%9E%90/tutorial%E6%95%B0%E6%8D%AE%E7%BB%93%E6%9E%84.ipynb#Y112sdnNjb2RlLXJlbW90ZQ%3D%3D?line=5'>6</a>\u001b[0m \u001b[39mset\u001b[39m([\u001b[39m3\u001b[39m,\u001b[39m5\u001b[39m,\u001b[39m7\u001b[39m,\u001b[39m8\u001b[39m])\u001b[39m#{3,5,7,8}\u001b[39;00m\n",
      "\u001b[0;31mNameError\u001b[0m: name 'iterable' is not defined"
     ]
    }
   ],
   "source": [
    "#生成空的集合：\n",
    "s=set() \n",
    "#生成非空集合：\n",
    "set(iterable) #将可迭代对象转换为集合\n",
    "#例：\n",
    "set([3,5,7,8])#{3,5,7,8}\n",
    "set(\"hello\")#{'h','e','l','o'}\n",
    "set(\"ABCABC\")#{'A','B','C'}\n",
    "s=set({\"name\":\"angel\",\"age\":15})#{'name','age'}\n",
    "s=set(\"ABC\",123,True)#{'A','B','C',123,True}\n",
    "s={True,None,\"ABC\",(1,2,3),3.14}#{True,None,\"ABC\",(1,2,3),3.14}"
   ]
  },
  {
   "cell_type": "code",
   "execution_count": null,
   "metadata": {},
   "outputs": [],
   "source": [
    "#集合的运算\n",
    "#交集，并集，补集，子集，超集\n",
    "A={1,2,3}\n",
    "B={2,3,4}\n",
    "交集={2，3}\n",
    "并集={1,2,3,4}\n",
    "补集A-B={1}\n",
    "B-A={4}"
   ]
  },
  {
   "cell_type": "code",
   "execution_count": null,
   "metadata": {},
   "outputs": [],
   "source": [
    "#集合的运算：\n",
    "#- 生成两个集合的补集\n",
    "#& 生成两个集合的交集\n",
    "#| 生成两个集合的并集\n",
    "#^ 生成两个集合的异或集 A^B=(A-B)|(B-A)\n",
    "#<= 判断一个集合是否是另一个集合的子集\n",
    "#>= 判断一个集合是否是另一个集合的超集\n",
    "#==/!= 判断两个集合是否相等/不相等\n",
    "#in/not in 判断一个集合是否是另一个集合的子集/超集\n",
    "#集合也是可迭代对象\n",
    "#运算同列表\n",
    "#集合推导式 语法：{表达式 for 变量 in 可迭代对象（if条件表达式）}\n",
    "#固定集合 frozenset 创建一个不可变的，无序的，含有唯一元素的集合\n",
    "frozenset() #生成一个空的固定集合\n",
    "frozenset(iterable) #将可迭代对象转换为固定集合\n",
    "#例：\n",
    "frozenset([1,2,3]) #frozenset({1,2,3})\n"
   ]
  }
 ],
 "metadata": {
  "kernelspec": {
   "display_name": "FUN",
   "language": "python",
   "name": "python3"
  },
  "language_info": {
   "codemirror_mode": {
    "name": "ipython",
    "version": 3
   },
   "file_extension": ".py",
   "mimetype": "text/x-python",
   "name": "python",
   "nbconvert_exporter": "python",
   "pygments_lexer": "ipython3",
   "version": "3.10.9"
  },
  "orig_nbformat": 4
 },
 "nbformat": 4,
 "nbformat_minor": 2
}

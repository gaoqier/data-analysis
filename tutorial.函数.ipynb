{
 "cells": [
  {
   "cell_type": "markdown",
   "metadata": {},
   "source": [
    "# 函数 function"
   ]
  },
  {
   "cell_type": "code",
   "execution_count": null,
   "metadata": {},
   "outputs": [],
   "source": [
    "#函数定义：\n",
    "def 函数名（参数列表）：\n",
    "   [\"注释块\"]（可选）\n",
    "   语句块(代码块)...\n",
    "   return[返回值]（可选） "
   ]
  },
  {
   "cell_type": "markdown",
   "metadata": {},
   "source": [
    "语法说明\n",
    "函数代码块以def关键词开头，后接函数标识符名称和圆括号()\n",
    "\n",
    "函数名是语句块（代码块）的名称，其命名规则与变量名相同(标识符)\n",
    "\n",
    "函数本身也是一个变量，该变量类型就是可调用类型，属性只读\n",
    "\n",
    "函数有自己的命名空间，要让函数处理外部数据需要用参数给函数传入一些数据，任何传入的参数和自变量作为参数列表必须放在圆括号中间。如果不需要传入参数，参数列表可以为空；\n",
    "\n",
    "函数的第一行语句可以选择性使用文档字符串-用于存放函数说明\n",
    "\n",
    "函数内容以冒号其实，并且缩进\n",
    "\n",
    "语句块部分不能省略，如果为空语句，需要填充pass关键字\n",
    "\n",
    "return[表达式]结束函数，选择性返回一个值给调用方。不带表达式的return相当于返回none\n",
    "\n",
    "函数的结束标记是没有缩进，return不意味着结束"
   ]
  },
  {
   "cell_type": "markdown",
   "metadata": {},
   "source": [
    "# 函数的参数传递\n",
    "\n",
    "传递方式：1.位置传参 2.关键字传参 3.*序列传参 4.**字典关键字传参 5.综合传参"
   ]
  },
  {
   "cell_type": "code",
   "execution_count": null,
   "metadata": {},
   "outputs": [],
   "source": [
    "#1.位置传参：\n",
    "#实际参数的对应关系与形式参数的对应关系是以位置来依次对应的 \n",
    "def sum3(a,b,c):\n",
    "    pass\n",
    "    print(\"a=\",a)\n",
    "    print(\"b=\",b)\n",
    "    print(\"c=\",c)\n",
    "x=sum3(1,2,3)\n",
    "#位置传参说明：\n",
    "#实参和形参通过位置进行对应和传递\n",
    "#实参和形参的个数必须一致"
   ]
  },
  {
   "cell_type": "code",
   "execution_count": 2,
   "metadata": {},
   "outputs": [
    {
     "name": "stdout",
     "output_type": "stream",
     "text": [
      "a= 1\n",
      "b= 2\n",
      "c= 3\n"
     ]
    }
   ],
   "source": [
    "#2.关键字传参：\n",
    "#实参和形参通过形参的名字进行对应和传递\n",
    "#实参和形参按名称进行配对，可以不按顺序\n",
    "def sum3(a,b,c):\n",
    "    pass\n",
    "    print(\"a=\",a)\n",
    "    print(\"b=\",b)\n",
    "    print(\"c=\",c)\n",
    "sum3(c=3,b=2,a=1)"
   ]
  },
  {
   "cell_type": "code",
   "execution_count": null,
   "metadata": {},
   "outputs": [],
   "source": [
    "#3.序列传参：\n",
    "#序列类型(list,tuple,str)作为参数列表传递，其要求是：序列的元素个数必须与参数的个数相同\n",
    "def sum3(a,b,c):\n",
    "    pass\n",
    "    print(\"a=\",a)\n",
    "    print(\"b=\",b)\n",
    "    print(\"c=\",c)\n",
    "list1=[1,2,3]#列表\n",
    "sum3(*list1)#等同于sum3(list1[0],list1[1],list1[2])\n",
    "tuple1=(1,2,3)#元组\n",
    "sum3(*tuple1)#等同于sum3(tuple1[0],tuple1[1],tuple1[2])\n",
    "str1=\"ABC\"#字符串\n",
    "sum3(*str1)#等同于sum3(str1[0],str1[1],str1[2])"
   ]
  },
  {
   "cell_type": "code",
   "execution_count": null,
   "metadata": {},
   "outputs": [],
   "source": [
    "#4.字典关键字传参：\n",
    "#实参和形参通过字典进行传递和匹配，字典的值传递给键对应的形参\n",
    "#实例：\n",
    "def sum3(a,b,c):\n",
    "    pass\n",
    "    print(\"a=\",a)\n",
    "    print(\"b=\",b)\n",
    "    print(\"c=\",c)\n",
    "dict1={\"a\":1,\"b\":2,\"c\":3}\n",
    "sum3(**dict1)#等同于sum3(a=dict1[\"a\"],b=dict1[\"b\"],c=dict1[\"c\"])\n",
    "#字典关键字传参说明：字典传参键名和形参名必须一致，键名要在形参中出现；键名必须是字符串"
   ]
  },
  {
   "cell_type": "code",
   "execution_count": null,
   "metadata": {},
   "outputs": [],
   "source": [
    "#5.综合传参：以上几种方法的混合使用\n",
    "myfun(100,*(200,300))"
   ]
  },
  {
   "cell_type": "markdown",
   "metadata": {},
   "source": [
    "# 函数的缺省参数 \n",
    "函数的形参如果被赋予默认参数值，那么该函数在调用时，如果对应的形参没有实参进行值传递，则使用默认值计算\n",
    "语法：\n",
    "def 函数名(形参1=默认参数值1，形参2=默认参数值2，...)：\n",
    "    语句"
   ]
  },
  {
   "cell_type": "code",
   "execution_count": null,
   "metadata": {},
   "outputs": [],
   "source": [
    "def info(name,age=1,address=\"不详\"):\n",
    "    print(\"name:\",name)\n",
    "    print(\"age:\",age)\n",
    "    print(\"address:\",address)\n",
    "info(\"小张\")#name: 小张 age: 1 address: 不详\n",
    "info(\"小李\",20)#name: 小李 age: 20 address: 不详\n",
    "info(\"小王\",address=\"上海\")#name: 小王 age: 1 address: 上海\n",
    "#缺省函数说明：缺省参数必须从右至左依次存在，如果有一个参数有缺省值，那么后面的参数都必须有缺省值\n",
    "#缺省参数可以有0个或多个，甚至全部是有缺省参数"
   ]
  },
  {
   "cell_type": "markdown",
   "metadata": {},
   "source": [
    "# 函数的不定长参数\n",
    "不定长参数有两种：\n",
    "\n",
    "星号元组形参和双星号字典形参"
   ]
  },
  {
   "cell_type": "code",
   "execution_count": null,
   "metadata": {},
   "outputs": [],
   "source": [
    "#星号元组形参：\n",
    "#语法：\n",
    "def 函数名(*元组参数名):\n",
    "    语句块\n",
    "#例子\n",
    "def myfun(*args):\n",
    "    print(\"参数个数是：\",len(args))\n",
    "    print(\"args=\",args)"
   ]
  },
  {
   "cell_type": "code",
   "execution_count": null,
   "metadata": {},
   "outputs": [],
   "source": [
    "#命名关键字形参\n",
    "#语法：def 函数名(*,命名关键字形参名1,命名关键字形参名2,....)\n",
    "            #语句块\n",
    "#实例:\n",
    "def fun(a,b,*,c):\n",
    "    print(a,b,c)\n",
    "fun(1,2,c=3)#对的\n",
    "fun(1,2,3)#错的\n",
    "fun(1,b=2,c=3)#对的,只关心*后面的参数，b无所谓"
   ]
  },
  {
   "cell_type": "code",
   "execution_count": 4,
   "metadata": {},
   "outputs": [
    {
     "name": "stdout",
     "output_type": "stream",
     "text": [
      "参数个数是： 2\n",
      "name --> angel\n",
      "age --> 20\n"
     ]
    }
   ],
   "source": [
    "#双星号字典形参：\n",
    "#语法：def 函数名(**字典参数名):\n",
    "            #语句块\n",
    "#实例：\n",
    "def fun(**kwargs):\n",
    "    print(\"参数个数是：\",len(kwargs))\n",
    "    for k,v in kwargs.items():\n",
    "        print(k,\"-->\",v)\n",
    "#调用\n",
    "fun(a=1,b=\"BBB\",c=[1,2,3],d=True)#ok\n",
    "fun(name=\"angel\",age=20)#ok\n",
    "fun(1,2,3)#错的\n",
    "   "
   ]
  },
  {
   "cell_type": "code",
   "execution_count": null,
   "metadata": {},
   "outputs": [],
   "source": [
    "#函数的参数列表顺序：\n",
    "#位置参数、缺省参数、星号元组形参、命名关键字形参、双星号字典形参可以混合使用\n",
    "#函数参数自左至右的顺序为：位置形参，星号元组形参，命名关键字形参，双星号字典形参，默认\n",
    "def fn(a,b,*args,c,**kwargs):\n",
    "    print(\"a=\",a,\"b=\",b,\"args=\",args,\"c=\",c,\"kwargs=\",kwargs)\n",
    "fn(100,200,300,400,c=\"C\",d=\"D\",e=\"E\")#a= 100 b= 200 args= (300, 400) c= C kwargs= {'d': 'D', 'e': 'E'}"
   ]
  },
  {
   "cell_type": "code",
   "execution_count": 5,
   "metadata": {},
   "outputs": [
    {
     "name": "stdout",
     "output_type": "stream",
     "text": [
      "Function definitions\n",
      "********************\n",
      "\n",
      "A function definition defines a user-defined function object (see\n",
      "section The standard type hierarchy):\n",
      "\n",
      "   funcdef                   ::= [decorators] \"def\" funcname \"(\" [parameter_list] \")\"\n",
      "               [\"->\" expression] \":\" suite\n",
      "   decorators                ::= decorator+\n",
      "   decorator                 ::= \"@\" assignment_expression NEWLINE\n",
      "   parameter_list            ::= defparameter (\",\" defparameter)* \",\" \"/\" [\",\" [parameter_list_no_posonly]]\n",
      "                        | parameter_list_no_posonly\n",
      "   parameter_list_no_posonly ::= defparameter (\",\" defparameter)* [\",\" [parameter_list_starargs]]\n",
      "                                 | parameter_list_starargs\n",
      "   parameter_list_starargs   ::= \"*\" [parameter] (\",\" defparameter)* [\",\" [\"**\" parameter [\",\"]]]\n",
      "                               | \"**\" parameter [\",\"]\n",
      "   parameter                 ::= identifier [\":\" expression]\n",
      "   defparameter              ::= parameter [\"=\" expression]\n",
      "   funcname                  ::= identifier\n",
      "\n",
      "A function definition is an executable statement.  Its execution binds\n",
      "the function name in the current local namespace to a function object\n",
      "(a wrapper around the executable code for the function).  This\n",
      "function object contains a reference to the current global namespace\n",
      "as the global namespace to be used when the function is called.\n",
      "\n",
      "The function definition does not execute the function body; this gets\n",
      "executed only when the function is called. [4]\n",
      "\n",
      "A function definition may be wrapped by one or more *decorator*\n",
      "expressions. Decorator expressions are evaluated when the function is\n",
      "defined, in the scope that contains the function definition.  The\n",
      "result must be a callable, which is invoked with the function object\n",
      "as the only argument. The returned value is bound to the function name\n",
      "instead of the function object.  Multiple decorators are applied in\n",
      "nested fashion. For example, the following code\n",
      "\n",
      "   @f1(arg)\n",
      "   @f2\n",
      "   def func(): pass\n",
      "\n",
      "is roughly equivalent to\n",
      "\n",
      "   def func(): pass\n",
      "   func = f1(arg)(f2(func))\n",
      "\n",
      "except that the original function is not temporarily bound to the name\n",
      "\"func\".\n",
      "\n",
      "Changed in version 3.9: Functions may be decorated with any valid\n",
      "\"assignment_expression\". Previously, the grammar was much more\n",
      "restrictive; see **PEP 614** for details.\n",
      "\n",
      "When one or more *parameters* have the form *parameter* \"=\"\n",
      "*expression*, the function is said to have “default parameter values.”\n",
      "For a parameter with a default value, the corresponding *argument* may\n",
      "be omitted from a call, in which case the parameter’s default value is\n",
      "substituted.  If a parameter has a default value, all following\n",
      "parameters up until the “\"*\"” must also have a default value — this is\n",
      "a syntactic restriction that is not expressed by the grammar.\n",
      "\n",
      "**Default parameter values are evaluated from left to right when the\n",
      "function definition is executed.** This means that the expression is\n",
      "evaluated once, when the function is defined, and that the same “pre-\n",
      "computed” value is used for each call.  This is especially important\n",
      "to understand when a default parameter value is a mutable object, such\n",
      "as a list or a dictionary: if the function modifies the object (e.g.\n",
      "by appending an item to a list), the default parameter value is in\n",
      "effect modified.  This is generally not what was intended.  A way\n",
      "around this is to use \"None\" as the default, and explicitly test for\n",
      "it in the body of the function, e.g.:\n",
      "\n",
      "   def whats_on_the_telly(penguin=None):\n",
      "       if penguin is None:\n",
      "           penguin = []\n",
      "       penguin.append(\"property of the zoo\")\n",
      "       return penguin\n",
      "\n",
      "Function call semantics are described in more detail in section Calls.\n",
      "A function call always assigns values to all parameters mentioned in\n",
      "the parameter list, either from positional arguments, from keyword\n",
      "arguments, or from default values.  If the form “\"*identifier\"” is\n",
      "present, it is initialized to a tuple receiving any excess positional\n",
      "parameters, defaulting to the empty tuple. If the form\n",
      "“\"**identifier\"” is present, it is initialized to a new ordered\n",
      "mapping receiving any excess keyword arguments, defaulting to a new\n",
      "empty mapping of the same type.  Parameters after “\"*\"” or\n",
      "“\"*identifier\"” are keyword-only parameters and may only be passed by\n",
      "keyword arguments.  Parameters before “\"/\"” are positional-only\n",
      "parameters and may only be passed by positional arguments.\n",
      "\n",
      "Changed in version 3.8: The \"/\" function parameter syntax may be used\n",
      "to indicate positional-only parameters. See **PEP 570** for details.\n",
      "\n",
      "Parameters may have an *annotation* of the form “\": expression\"”\n",
      "following the parameter name.  Any parameter may have an annotation,\n",
      "even those of the form \"*identifier\" or \"**identifier\".  Functions may\n",
      "have “return” annotation of the form “\"-> expression\"” after the\n",
      "parameter list.  These annotations can be any valid Python expression.\n",
      "The presence of annotations does not change the semantics of a\n",
      "function.  The annotation values are available as values of a\n",
      "dictionary keyed by the parameters’ names in the \"__annotations__\"\n",
      "attribute of the function object.  If the \"annotations\" import from\n",
      "\"__future__\" is used, annotations are preserved as strings at runtime\n",
      "which enables postponed evaluation.  Otherwise, they are evaluated\n",
      "when the function definition is executed.  In this case annotations\n",
      "may be evaluated in a different order than they appear in the source\n",
      "code.\n",
      "\n",
      "It is also possible to create anonymous functions (functions not bound\n",
      "to a name), for immediate use in expressions.  This uses lambda\n",
      "expressions, described in section Lambdas.  Note that the lambda\n",
      "expression is merely a shorthand for a simplified function definition;\n",
      "a function defined in a “\"def\"” statement can be passed around or\n",
      "assigned to another name just like a function defined by a lambda\n",
      "expression.  The “\"def\"” form is actually more powerful since it\n",
      "allows the execution of multiple statements and annotations.\n",
      "\n",
      "**Programmer’s note:** Functions are first-class objects.  A “\"def\"”\n",
      "statement executed inside a function definition defines a local\n",
      "function that can be returned or passed around.  Free variables used\n",
      "in the nested function can access the local variables of the function\n",
      "containing the def.  See section Naming and binding for details.\n",
      "\n",
      "See also:\n",
      "\n",
      "  **PEP 3107** - Function Annotations\n",
      "     The original specification for function annotations.\n",
      "\n",
      "  **PEP 484** - Type Hints\n",
      "     Definition of a standard meaning for annotations: type hints.\n",
      "\n",
      "  **PEP 526** - Syntax for Variable Annotations\n",
      "     Ability to type hint variable declarations, including class\n",
      "     variables and instance variables\n",
      "\n",
      "  **PEP 563** - Postponed Evaluation of Annotations\n",
      "     Support for forward references within annotations by preserving\n",
      "     annotations in a string form at runtime instead of eager\n",
      "     evaluation.\n",
      "\n"
     ]
    }
   ],
   "source": [
    "#详细语法：\n",
    "help(\"def\")"
   ]
  },
  {
   "cell_type": "markdown",
   "metadata": {},
   "source": [
    "# 可变类型和不可变类型 的实参的参数传递的区别\n",
    "可变类型：列表list，集合set，字典dict\n",
    "\n",
    "不可变类型：frozenset，tuple，str，numbers"
   ]
  },
  {
   "cell_type": "code",
   "execution_count": null,
   "metadata": {},
   "outputs": [],
   "source": [
    "#实例1：mutable\n",
    "def fn(x):\n",
    "    x.append(9)\n",
    "fn(L)#[9]\n",
    "fn(L)#L=[9,9]"
   ]
  },
  {
   "cell_type": "code",
   "execution_count": null,
   "metadata": {},
   "outputs": [],
   "source": [
    "#实例2：immutable\n",
    "t=(1,2,3)\n",
    "def fn(x):\n",
    "    x[1]=2.2\n",
    "fn(t)#TypeError: 'tuple' object does not support item assignment\n"
   ]
  },
  {
   "cell_type": "code",
   "execution_count": null,
   "metadata": {},
   "outputs": [],
   "source": [
    "x=100\n",
    "def fn(x):\n",
    "    x=200\n",
    "fn(x)\n",
    "print(x)#100 不变的"
   ]
  },
  {
   "cell_type": "markdown",
   "metadata": {},
   "source": [
    "# 函数作用域：\n",
    "全局变量和局部变量\n",
    "\n",
    "局部变量：定义在函数内部的变量（包括函数参数）\n",
    "\n",
    "全局变量：定义在函数外部，模块内部的变量\n"
   ]
  },
  {
   "cell_type": "code",
   "execution_count": null,
   "metadata": {},
   "outputs": [],
   "source": [
    "x=100#全局\n",
    "def fn(x):\n",
    "    x=200#局部\n",
    "fn(x)\n",
    "print(x)#100 不变的"
   ]
  },
  {
   "cell_type": "markdown",
   "metadata": {},
   "source": [
    "python作用域：是一块文本区域，是变量或函数访问的时候查找名称的范围空间\n",
    "\n",
    "python作用域4个分类：\n",
    "\n",
    "1）局部作用域（函数内）local L\n",
    "\n",
    "2）外部嵌套函数作用域 Enclosing function locals E\n",
    "\n",
    "3）函数定义所在模块（文件）的作用域 Global（module） G\n",
    "\n",
    "4）Python内置模块的作用域 Built-in B"
   ]
  },
  {
   "cell_type": "code",
   "execution_count": null,
   "metadata": {},
   "outputs": [],
   "source": [
    "v=100#全局作用域GA\n",
    "def fun1():\n",
    "    v=200#外部嵌套函数作用域E\n",
    "    print(\"fun1.v=\",v)\n",
    "    def fun2():\n",
    "        v=300#局部作用域L\n",
    "        print(\"fun2.v=\",v)\n",
    "    fun2()\n",
    "fun1()\n",
    "print(\"v=\",v)\n",
    "\n",
    "print(__doc__)#_doc_是内建作用域的变量"
   ]
  },
  {
   "cell_type": "markdown",
   "metadata": {},
   "source": [
    "变量名的查找规则：在访问变量时，先查找本地变量，然后是包裹此函数的外部函数的函数内部的变量，之后是全局变量，最后是内置变量\n",
    "\n",
    "L-E-G-B"
   ]
  },
  {
   "cell_type": "code",
   "execution_count": 3,
   "metadata": {},
   "outputs": [
    {
     "name": "stdout",
     "output_type": "stream",
     "text": [
      "fn.v= 200\n"
     ]
    }
   ],
   "source": [
    "#全局声明global\n",
    "#问题：如果想在局部作用域内访问全局变量怎么办？\n",
    "v=100\n",
    "def fn():\n",
    "    global v#声明v是全局变量\n",
    "    v=200#修改全局变量v\n",
    "    print(\"fn.v=\",v)\n",
    "fn()"
   ]
  },
  {
   "cell_type": "code",
   "execution_count": null,
   "metadata": {},
   "outputs": [],
   "source": [
    "v=100\n",
    "def fn(v):\n",
    "    global v #error v出现在了参数列表里\n",
    "    print(v)\n",
    "fn(200)"
   ]
  },
  {
   "cell_type": "markdown",
   "metadata": {},
   "source": [
    "global说明：\n",
    "1.全局变量如果要在函数内部被赋值，则必须经过全局声明，否则被认为是局部变量\n",
    "\n",
    "2.全局变量在函数内部不经过声明就可以直接读取访问（前提是变量已经存在）\n",
    "\n",
    "3.不能先声明局部变量，再用global声明为全局变量，此做法不符合语法规则\n",
    "\n",
    "4.global变量列表里的变量名不能出现在此作用域的参数列表里，for循环控制目标，类定义，函数定义及import导入名字中"
   ]
  },
  {
   "cell_type": "markdown",
   "metadata": {},
   "source": [
    " # 函数嵌套"
   ]
  },
  {
   "cell_type": "code",
   "execution_count": null,
   "metadata": {},
   "outputs": [],
   "source": [
    "def fn_outer():#外部函数\n",
    "    print(\"fn_outer被调用\")\n",
    "    def fn_inner():#内部函数\n",
    "        print(\"fn_inner被调用\")\n",
    "    fn_inner()\n",
    "    print(\"fn_outer调用结束\")\n",
    "fn_outer()\n",
    "#fn_inner()#NameError: name 'fn_inner' is not defined"
   ]
  },
  {
   "cell_type": "code",
   "execution_count": null,
   "metadata": {},
   "outputs": [],
   "source": [
    "#nonlocal语句\n",
    "#作用：告诉解释器，nonlocal声明的变量不是局部变量也不是全局变量，而是外部嵌套函数内的变量\n",
    "#语法：nonlocal 变量名1，变量名2，...\n",
    "#实例：\n",
    "var=200\n",
    "def outter():\n",
    "    var=100\n",
    "    def inner():\n",
    "        nonlocal var#指定使用哪个var 如果有两个嵌套的var 优先使用离他近的\n",
    "        var=300\n",
    "        print(\"inner.var=\",var)\n",
    "    inner()\n",
    "    print(\"outter.var=\",var)\n"
   ]
  },
  {
   "cell_type": "code",
   "execution_count": null,
   "metadata": {},
   "outputs": [],
   "source": [
    "#global()/locals()函数     返回全局/局部作用域的变量字典\n",
    "#实例：\n",
    "a=1\n",
    "b=2\n",
    "def fn(c,d):\n",
    "    e=300\n",
    "    print(\"locals()返回：\",locals())#locals()返回： {'c': 100, 'd': 200, 'e': 300}\n",
    "    print(\"globals()返回：\",globals())#globals()返回：{'a':1,'b':2,'fn':<xxxx>}"
   ]
  },
  {
   "cell_type": "markdown",
   "metadata": {},
   "source": [
    "# 函数式编程思想\n",
    "（1）有边界效应的函数：（不可重入的函数）：使用了全局变量、静态变量，或者处理的数据不全是来自函数的输入（比如来自硬件）的。"
   ]
  },
  {
   "cell_type": "code",
   "execution_count": null,
   "metadata": {},
   "outputs": [],
   "source": [
    "y=200\n",
    "def myadd(x):\n",
    "    return x+y\n",
    "print(myadd(100))#300\n",
    "y=100\n",
    "print(myadd(100))#200"
   ]
  },
  {
   "cell_type": "markdown",
   "metadata": {},
   "source": [
    "（2）纯函数式：（可重入的函数）：类似数学函数的映射，给定输入就会得到指定输出，没有任何副作用的"
   ]
  },
  {
   "cell_type": "code",
   "execution_count": null,
   "metadata": {},
   "outputs": [],
   "source": [
    "#函数变量\n",
    "#函数名是变量，它在创建函数时绑定一个函数对象\n",
    "def fn():\n",
    "    print(\"hello world\")\n",
    "f1=fn\n",
    "f1()#等同于调用函数fn() 浅拷贝"
   ]
  },
  {
   "cell_type": "markdown",
   "metadata": {},
   "source": [
    "# 高阶函数\n",
    "什么是高阶函数：满足下列条件中的一个的函数即为高阶函数：\n",
    "\n",
    "1.函数接受一个或多个函数作为参数传入\n",
    "\n",
    "2.函数返回一个函数，函数作为函数的返回值"
   ]
  },
  {
   "cell_type": "code",
   "execution_count": null,
   "metadata": {},
   "outputs": [],
   "source": [
    "def getfn():\n",
    "    def print_hello():\n",
    "        print(\"hello\")\n",
    "    return print_hello\n",
    "fn=getfn()\n",
    "fn()#hello"
   ]
  },
  {
   "cell_type": "code",
   "execution_count": 4,
   "metadata": {},
   "outputs": [
    {
     "name": "stdout",
     "output_type": "stream",
     "text": [
      "|    姓名    |    年龄    |\n"
     ]
    }
   ],
   "source": [
    "#函数作为函数的参数传递：\n",
    "#实例：\n",
    "def tab(x,y):\n",
    "    return \"|\"+x.center(10)+\"|\"+y.center(10)+\"|\"\n",
    "#例2：\n",
    "def myprint(fn,x,y):\n",
    "    print(fn(x,y))\n",
    "myprint(tab,\"姓名\",\"年龄\") "
   ]
  },
  {
   "cell_type": "markdown",
   "metadata": {},
   "source": [
    "# 偏函数\n",
    "函数有很多参数时，如果固定住一些参数，可以i用functool模块Partial得到一个偏函数，方方便以后的使用 "
   ]
  },
  {
   "cell_type": "code",
   "execution_count": null,
   "metadata": {},
   "outputs": [],
   "source": [
    "#偏函数设定\n",
    "import functools\n",
    "int2=functools.partial(int,base=2)#把输入的数转化成2进制\n",
    "int2(\"1000000\")#64"
   ]
  },
  {
   "cell_type": "markdown",
   "metadata": {},
   "source": [
    "# 迭代器（暂略，置后讲）\n",
    "可以用for进行循环变量的可迭代对象\n",
    "# 生成器（暂略，置后讲）\n",
    "生成器（generator）是一种创建迭代器的方法\n"
   ]
  },
  {
   "cell_type": "markdown",
   "metadata": {},
   "source": [
    "# 封装控制结构的内置模板函数"
   ]
  },
  {
   "cell_type": "code",
   "execution_count": 5,
   "metadata": {},
   "outputs": [
    {
     "name": "stdout",
     "output_type": "stream",
     "text": [
      "1\n",
      "4\n",
      "9\n",
      "16\n",
      "25\n",
      "36\n",
      "49\n",
      "64\n",
      "81\n"
     ]
    }
   ],
   "source": [
    "# 封装控制结构的内置模板函数\n",
    "#python中内置的高阶函数：map，filter，sorted，reduce\n",
    "# map函数：map(func,*iterable)用函数func和可迭代对象iterable中的每个元素作为参数计算出新的可迭代对象，当最短的一个可迭代对象完成迭代后，此迭代生成结束\n",
    "def power(x):\n",
    "    return x**2\n",
    "mit=map(power,range(1,10))\n",
    "for x in mit:\n",
    "    print(x,end=\" \")#1 4 9 16 25 36 49 64 81"
   ]
  },
  {
   "cell_type": "code",
   "execution_count": null,
   "metadata": {},
   "outputs": [],
   "source": [
    "# reduce函数 \n",
    "reduce(func,iterable[,initializer])#用来对可迭代对象中的元素进行累积计算\n",
    "#作用：对参数序列中元素进行累积。函数将一个数据集合（链表，元组等）中的所有数据进行下列操作：用传给reduce中的函数function（有两个参数）先对集合中的第1、2个元素进行操作，得到的结果再与第三个数据用function函数运算，最后得到一个结果。\n",
    "#实例：\n",
    "def myadd(x,y):\n",
    "    return x+y\n",
    "from functools import reduce\n",
    "reduce(myadd,range(1,11))#1+2+3+4+5+6+7+8+9+10=55\n"
   ]
  },
  {
   "cell_type": "code",
   "execution_count": 12,
   "metadata": {},
   "outputs": [
    {
     "data": {
      "text/plain": [
       "filter"
      ]
     },
     "execution_count": 12,
     "metadata": {},
     "output_type": "execute_result"
    }
   ],
   "source": [
    "#filter函数\n",
    "#filter(func or None,iterable)#用于过滤可迭代对象中的元素，返回一个filter对象\n",
    "#实例:\n",
    "def isodd(x):\n",
    "    return x%2==1\n",
    "mit=filter(isodd,range(10))\n",
    "type(mit)#<class 'filter'>\n",
    "print(list(mit))#[1, 3, 5, 7, 9] 或者写成print([x for x in mit])\n"
   ]
  },
  {
   "cell_type": "code",
   "execution_count": 10,
   "metadata": {},
   "outputs": [
    {
     "name": "stdout",
     "output_type": "stream",
     "text": [
      "[0, 1, 2, 3, 4, 5, 6, 7, 8, 9]\n"
     ]
    }
   ],
   "source": [
    "#瞎写写\n",
    "range(10)#range(0,10)\n",
    "type(range(10))#<class 'range'>"
   ]
  },
  {
   "cell_type": "code",
   "execution_count": null,
   "metadata": {},
   "outputs": [],
   "source": [
    "#sorted函数\n",
    "#作用:对可迭代对象中的元素进行排序\n",
    "#sorted(iterable,key=None,reverse=False)\n",
    "#说明：key函数用来提供一个值，这个值将作为排序的依据\n",
    "#实例：\n",
    "sorted(names,key=len,reverse=True)#按照字符串长度降序排列"
   ]
  },
  {
   "cell_type": "code",
   "execution_count": 15,
   "metadata": {},
   "outputs": [
    {
     "name": "stdout",
     "output_type": "stream",
     "text": [
      "20+30= 50\n"
     ]
    }
   ],
   "source": [
    "#lambda表达式（又称匿名函数）\n",
    "#作用：创建一个匿名函数对象，同def类似，但不提供函数名\n",
    "#语法：lambda [参数1，参数2，...]:表达式\n",
    "#注：[]内的部分表示可以省略\n",
    "#实例：\n",
    "def myadd(x,y):\n",
    "    return x+y\n",
    "#等同于\n",
    "myadd=lambda x,y:x+y\n",
    "print(\"20+30=\",myadd(20,30))#300\n",
    "#我理解为一次性的函数"
   ]
  },
  {
   "cell_type": "markdown",
   "metadata": {},
   "source": [
    "# 内置不可变数据结构\n",
    "为了避开边界效应，降低排查难度\n",
    "\n",
    "例如元组就是不可变的\n",
    "\n",
    "函数式编程语言一般会提供数据结构的两种版本（可变和不可变），并推荐使用不可变的版本。"
   ]
  },
  {
   "cell_type": "code",
   "execution_count": null,
   "metadata": {},
   "outputs": [],
   "source": [
    "#递归\n",
    "#递归是另一种取代循环的方法\n",
    "#递归函数 recursion 函数直接或间接地调用自身\n",
    "#实例1：算阶乘\n",
    "def fn(n):\n",
    "    if n==1:\n",
    "        return 1\n",
    "    else:\n",
    "        return n*fn(n-1)\n",
    "#设置好初始量和递归关系\n",
    "#等同于循环实现\n",
    "def fn(n):\n",
    "    r=1\n",
    "    for i in range(1,n+1):\n",
    "        r*=i\n",
    "    return r\n"
   ]
  },
  {
   "cell_type": "markdown",
   "metadata": {},
   "source": [
    "# 闭包 closure\n",
    "将组成函数的语句和这些语句的执行环境打包在一起时，得到的对象称为闭包\n",
    "\n",
    "说明：如果一个内嵌函数访问函数外部做英语的变量，则这个函数就是闭包"
   ]
  },
  {
   "cell_type": "code",
   "execution_count": null,
   "metadata": {},
   "outputs": [],
   "source": [
    "#实例：\n",
    "def make_power(y):\n",
    "    def fn(x):\n",
    "        return x**y\n",
    "    return fn\n",
    "pow2=make_power(2)#指定指数\n",
    "pow2(5)#再指定底数"
   ]
  },
  {
   "cell_type": "markdown",
   "metadata": {},
   "source": [
    "# 装饰器 decorator\n",
    "装饰器是一个函数，主要作用是用来包装另一个函数或类\n",
    "\n",
    "包装的目的是在不改变函数名的情况下，改变被包装函数（对象）的行为"
   ]
  },
  {
   "cell_type": "code",
   "execution_count": 13,
   "metadata": {},
   "outputs": [
    {
     "name": "stdout",
     "output_type": "stream",
     "text": [
      "装饰器函数被调用，并返回原函数 \n",
      "myfunc被调用\n"
     ]
    }
   ],
   "source": [
    "#语法：\n",
    "#def 装饰器函数名(参数)：\n",
    "    #语句块\n",
    "    #return 函数对象\n",
    "#实例：\n",
    "def deco(fn):\n",
    "    print(\"装饰器函数被调用，并返回原函数 \")\n",
    "    return fn\n",
    "@deco #@+函数名，把这个装饰到下面的函数上 #装饰器函数被调用，并返回原函数\n",
    "def myfunc():\n",
    "    print(\"myfunc被调用\")  \n",
    "#等同于 myfunc=deco(myfunc)\n",
    "myfunc()#比较节省时间 在myfunc函数执行之前就已经执行了deco函数，显示了“装饰器函数被调用，并返回原函数 ”，让人知道有东西在执行了已经"
   ]
  },
  {
   "cell_type": "markdown",
   "metadata": {},
   "source": [
    "# 模块 Module\n",
    "模块是一个包含有一系列变量、函数、类等组成的程序组\n",
    "\n",
    "模块是一个文件，模块文件名通常以.py结尾\n",
    "\n",
    "作用：让一些相关的变量、函数、类等有逻辑地组合在一起，让逻辑结构更加清晰\n",
    "\n",
    "模块中的变量，函数和类等可供其他模块或程序使用\n",
    "\n",
    "分类：\n",
    "\n",
    "1.内置模块(builtins),在解析器的内部可以直接使用\n",
    "\n",
    "2.安装的标准库模块，安装python时已安装具有可直接使用\n",
    "\n",
    "3.第三方模块（通常开源），需要自己安装\n",
    "\n",
    "4.用户自己编写的模块（可作为其他人的第三方模块）"
   ]
  },
  {
   "cell_type": "code",
   "execution_count": null,
   "metadata": {},
   "outputs": [],
   "source": [
    "#模块的导入\n",
    "#import 语法\n",
    "#import 模块名1 [as 别名1],模块名2 [as 别名2],....\n",
    "#实例：\n",
    "import math\n",
    "import sys,os\n",
    "#作用：将某模块整体导入到当前模块\n",
    "\n",
    "#import语句用法\n",
    "#模块名.属性名\n",
    "math.sin(3.14)\n",
    "\n",
    "#help(obj)函数，可以查看模块相关的文档字符串\n",
    "#dir(obj)函数，返回模块所有属性的字符串列表\n"
   ]
  },
  {
   "cell_type": "code",
   "execution_count": 2,
   "metadata": {},
   "outputs": [
    {
     "name": "stdout",
     "output_type": "stream",
     "text": [
      "Help on module math:\n",
      "\n",
      "NAME\n",
      "    math\n",
      "\n",
      "MODULE REFERENCE\n",
      "    https://docs.python.org/3.10/library/math.html\n",
      "    \n",
      "    The following documentation is automatically generated from the Python\n",
      "    source files.  It may be incomplete, incorrect or include features that\n",
      "    are considered implementation detail and may vary between Python\n",
      "    implementations.  When in doubt, consult the module reference at the\n",
      "    location listed above.\n",
      "\n",
      "DESCRIPTION\n",
      "    This module provides access to the mathematical functions\n",
      "    defined by the C standard.\n",
      "\n",
      "FUNCTIONS\n",
      "    acos(x, /)\n",
      "        Return the arc cosine (measured in radians) of x.\n",
      "        \n",
      "        The result is between 0 and pi.\n",
      "    \n",
      "    acosh(x, /)\n",
      "        Return the inverse hyperbolic cosine of x.\n",
      "    \n",
      "    asin(x, /)\n",
      "        Return the arc sine (measured in radians) of x.\n",
      "        \n",
      "        The result is between -pi/2 and pi/2.\n",
      "    \n",
      "    asinh(x, /)\n",
      "        Return the inverse hyperbolic sine of x.\n",
      "    \n",
      "    atan(x, /)\n",
      "        Return the arc tangent (measured in radians) of x.\n",
      "        \n",
      "        The result is between -pi/2 and pi/2.\n",
      "    \n",
      "    atan2(y, x, /)\n",
      "        Return the arc tangent (measured in radians) of y/x.\n",
      "        \n",
      "        Unlike atan(y/x), the signs of both x and y are considered.\n",
      "    \n",
      "    atanh(x, /)\n",
      "        Return the inverse hyperbolic tangent of x.\n",
      "    \n",
      "    ceil(x, /)\n",
      "        Return the ceiling of x as an Integral.\n",
      "        \n",
      "        This is the smallest integer >= x.\n",
      "    \n",
      "    comb(n, k, /)\n",
      "        Number of ways to choose k items from n items without repetition and without order.\n",
      "        \n",
      "        Evaluates to n! / (k! * (n - k)!) when k <= n and evaluates\n",
      "        to zero when k > n.\n",
      "        \n",
      "        Also called the binomial coefficient because it is equivalent\n",
      "        to the coefficient of k-th term in polynomial expansion of the\n",
      "        expression (1 + x)**n.\n",
      "        \n",
      "        Raises TypeError if either of the arguments are not integers.\n",
      "        Raises ValueError if either of the arguments are negative.\n",
      "    \n",
      "    copysign(x, y, /)\n",
      "        Return a float with the magnitude (absolute value) of x but the sign of y.\n",
      "        \n",
      "        On platforms that support signed zeros, copysign(1.0, -0.0)\n",
      "        returns -1.0.\n",
      "    \n",
      "    cos(x, /)\n",
      "        Return the cosine of x (measured in radians).\n",
      "    \n",
      "    cosh(x, /)\n",
      "        Return the hyperbolic cosine of x.\n",
      "    \n",
      "    degrees(x, /)\n",
      "        Convert angle x from radians to degrees.\n",
      "    \n",
      "    dist(p, q, /)\n",
      "        Return the Euclidean distance between two points p and q.\n",
      "        \n",
      "        The points should be specified as sequences (or iterables) of\n",
      "        coordinates.  Both inputs must have the same dimension.\n",
      "        \n",
      "        Roughly equivalent to:\n",
      "            sqrt(sum((px - qx) ** 2.0 for px, qx in zip(p, q)))\n",
      "    \n",
      "    erf(x, /)\n",
      "        Error function at x.\n",
      "    \n",
      "    erfc(x, /)\n",
      "        Complementary error function at x.\n",
      "    \n",
      "    exp(x, /)\n",
      "        Return e raised to the power of x.\n",
      "    \n",
      "    expm1(x, /)\n",
      "        Return exp(x)-1.\n",
      "        \n",
      "        This function avoids the loss of precision involved in the direct evaluation of exp(x)-1 for small x.\n",
      "    \n",
      "    fabs(x, /)\n",
      "        Return the absolute value of the float x.\n",
      "    \n",
      "    factorial(x, /)\n",
      "        Find x!.\n",
      "        \n",
      "        Raise a ValueError if x is negative or non-integral.\n",
      "    \n",
      "    floor(x, /)\n",
      "        Return the floor of x as an Integral.\n",
      "        \n",
      "        This is the largest integer <= x.\n",
      "    \n",
      "    fmod(x, y, /)\n",
      "        Return fmod(x, y), according to platform C.\n",
      "        \n",
      "        x % y may differ.\n",
      "    \n",
      "    frexp(x, /)\n",
      "        Return the mantissa and exponent of x, as pair (m, e).\n",
      "        \n",
      "        m is a float and e is an int, such that x = m * 2.**e.\n",
      "        If x is 0, m and e are both 0.  Else 0.5 <= abs(m) < 1.0.\n",
      "    \n",
      "    fsum(seq, /)\n",
      "        Return an accurate floating point sum of values in the iterable seq.\n",
      "        \n",
      "        Assumes IEEE-754 floating point arithmetic.\n",
      "    \n",
      "    gamma(x, /)\n",
      "        Gamma function at x.\n",
      "    \n",
      "    gcd(*integers)\n",
      "        Greatest Common Divisor.\n",
      "    \n",
      "    hypot(...)\n",
      "        hypot(*coordinates) -> value\n",
      "        \n",
      "        Multidimensional Euclidean distance from the origin to a point.\n",
      "        \n",
      "        Roughly equivalent to:\n",
      "            sqrt(sum(x**2 for x in coordinates))\n",
      "        \n",
      "        For a two dimensional point (x, y), gives the hypotenuse\n",
      "        using the Pythagorean theorem:  sqrt(x*x + y*y).\n",
      "        \n",
      "        For example, the hypotenuse of a 3/4/5 right triangle is:\n",
      "        \n",
      "            >>> hypot(3.0, 4.0)\n",
      "            5.0\n",
      "    \n",
      "    isclose(a, b, *, rel_tol=1e-09, abs_tol=0.0)\n",
      "        Determine whether two floating point numbers are close in value.\n",
      "        \n",
      "          rel_tol\n",
      "            maximum difference for being considered \"close\", relative to the\n",
      "            magnitude of the input values\n",
      "          abs_tol\n",
      "            maximum difference for being considered \"close\", regardless of the\n",
      "            magnitude of the input values\n",
      "        \n",
      "        Return True if a is close in value to b, and False otherwise.\n",
      "        \n",
      "        For the values to be considered close, the difference between them\n",
      "        must be smaller than at least one of the tolerances.\n",
      "        \n",
      "        -inf, inf and NaN behave similarly to the IEEE 754 Standard.  That\n",
      "        is, NaN is not close to anything, even itself.  inf and -inf are\n",
      "        only close to themselves.\n",
      "    \n",
      "    isfinite(x, /)\n",
      "        Return True if x is neither an infinity nor a NaN, and False otherwise.\n",
      "    \n",
      "    isinf(x, /)\n",
      "        Return True if x is a positive or negative infinity, and False otherwise.\n",
      "    \n",
      "    isnan(x, /)\n",
      "        Return True if x is a NaN (not a number), and False otherwise.\n",
      "    \n",
      "    isqrt(n, /)\n",
      "        Return the integer part of the square root of the input.\n",
      "    \n",
      "    lcm(*integers)\n",
      "        Least Common Multiple.\n",
      "    \n",
      "    ldexp(x, i, /)\n",
      "        Return x * (2**i).\n",
      "        \n",
      "        This is essentially the inverse of frexp().\n",
      "    \n",
      "    lgamma(x, /)\n",
      "        Natural logarithm of absolute value of Gamma function at x.\n",
      "    \n",
      "    log(...)\n",
      "        log(x, [base=math.e])\n",
      "        Return the logarithm of x to the given base.\n",
      "        \n",
      "        If the base not specified, returns the natural logarithm (base e) of x.\n",
      "    \n",
      "    log10(x, /)\n",
      "        Return the base 10 logarithm of x.\n",
      "    \n",
      "    log1p(x, /)\n",
      "        Return the natural logarithm of 1+x (base e).\n",
      "        \n",
      "        The result is computed in a way which is accurate for x near zero.\n",
      "    \n",
      "    log2(x, /)\n",
      "        Return the base 2 logarithm of x.\n",
      "    \n",
      "    modf(x, /)\n",
      "        Return the fractional and integer parts of x.\n",
      "        \n",
      "        Both results carry the sign of x and are floats.\n",
      "    \n",
      "    nextafter(x, y, /)\n",
      "        Return the next floating-point value after x towards y.\n",
      "    \n",
      "    perm(n, k=None, /)\n",
      "        Number of ways to choose k items from n items without repetition and with order.\n",
      "        \n",
      "        Evaluates to n! / (n - k)! when k <= n and evaluates\n",
      "        to zero when k > n.\n",
      "        \n",
      "        If k is not specified or is None, then k defaults to n\n",
      "        and the function returns n!.\n",
      "        \n",
      "        Raises TypeError if either of the arguments are not integers.\n",
      "        Raises ValueError if either of the arguments are negative.\n",
      "    \n",
      "    pow(x, y, /)\n",
      "        Return x**y (x to the power of y).\n",
      "    \n",
      "    prod(iterable, /, *, start=1)\n",
      "        Calculate the product of all the elements in the input iterable.\n",
      "        \n",
      "        The default start value for the product is 1.\n",
      "        \n",
      "        When the iterable is empty, return the start value.  This function is\n",
      "        intended specifically for use with numeric values and may reject\n",
      "        non-numeric types.\n",
      "    \n",
      "    radians(x, /)\n",
      "        Convert angle x from degrees to radians.\n",
      "    \n",
      "    remainder(x, y, /)\n",
      "        Difference between x and the closest integer multiple of y.\n",
      "        \n",
      "        Return x - n*y where n*y is the closest integer multiple of y.\n",
      "        In the case where x is exactly halfway between two multiples of\n",
      "        y, the nearest even value of n is used. The result is always exact.\n",
      "    \n",
      "    sin(x, /)\n",
      "        Return the sine of x (measured in radians).\n",
      "    \n",
      "    sinh(x, /)\n",
      "        Return the hyperbolic sine of x.\n",
      "    \n",
      "    sqrt(x, /)\n",
      "        Return the square root of x.\n",
      "    \n",
      "    tan(x, /)\n",
      "        Return the tangent of x (measured in radians).\n",
      "    \n",
      "    tanh(x, /)\n",
      "        Return the hyperbolic tangent of x.\n",
      "    \n",
      "    trunc(x, /)\n",
      "        Truncates the Real x to the nearest Integral toward 0.\n",
      "        \n",
      "        Uses the __trunc__ magic method.\n",
      "    \n",
      "    ulp(x, /)\n",
      "        Return the value of the least significant bit of the float x.\n",
      "\n",
      "DATA\n",
      "    e = 2.718281828459045\n",
      "    inf = inf\n",
      "    nan = nan\n",
      "    pi = 3.141592653589793\n",
      "    tau = 6.283185307179586\n",
      "\n",
      "FILE\n",
      "    /home/angel/anaconda3/envs/FUN/lib/python3.10/lib-dynload/math.cpython-310-x86_64-linux-gnu.so\n",
      "\n",
      "\n"
     ]
    }
   ],
   "source": [
    "import math\n",
    "help(math)"
   ]
  },
  {
   "cell_type": "code",
   "execution_count": null,
   "metadata": {},
   "outputs": [],
   "source": [
    "#from import 语法\n",
    "#语法：from 模块名 import 属性名1 [as 别名1],属性名2 [as 别名2],....\n",
    "#实例：\n",
    "from math import sin,cos,tan\n",
    "\n",
    "#语法：from 模块名 import *\n",
    "#作用：将模块中所有属性导入到当前模块\n",
    "#实例：\n",
    "from math import *\n",
    "sin(3.14)"
   ]
  },
  {
   "cell_type": "code",
   "execution_count": 5,
   "metadata": {},
   "outputs": [
    {
     "ename": "ModuleNotFoundError",
     "evalue": "No module named 'mymod'",
     "output_type": "error",
     "traceback": [
      "\u001b[0;31m---------------------------------------------------------------------------\u001b[0m",
      "\u001b[0;31mModuleNotFoundError\u001b[0m                       Traceback (most recent call last)",
      "\u001b[1;32m/home/angel/Temp/数据分析/tutorial.函数.ipynb 单元格 61\u001b[0m line \u001b[0;36m8\n\u001b[1;32m      <a href='vscode-notebook-cell://wsl%2Bubuntu/home/angel/Temp/%E6%95%B0%E6%8D%AE%E5%88%86%E6%9E%90/tutorial.%E5%87%BD%E6%95%B0.ipynb#Y114sdnNjb2RlLXJlbW90ZQ%3D%3D?line=5'>6</a>\u001b[0m     \u001b[39mprint\u001b[39m(\u001b[39m\"\u001b[39m\u001b[39mmyfun被调用\u001b[39m\u001b[39m\"\u001b[39m)\n\u001b[1;32m      <a href='vscode-notebook-cell://wsl%2Bubuntu/home/angel/Temp/%E6%95%B0%E6%8D%AE%E5%88%86%E6%9E%90/tutorial.%E5%87%BD%E6%95%B0.ipynb#Y114sdnNjb2RlLXJlbW90ZQ%3D%3D?line=6'>7</a>\u001b[0m \u001b[39m#test.py\u001b[39;00m\n\u001b[0;32m----> <a href='vscode-notebook-cell://wsl%2Bubuntu/home/angel/Temp/%E6%95%B0%E6%8D%AE%E5%88%86%E6%9E%90/tutorial.%E5%87%BD%E6%95%B0.ipynb#Y114sdnNjb2RlLXJlbW90ZQ%3D%3D?line=7'>8</a>\u001b[0m \u001b[39mimport\u001b[39;00m \u001b[39mmymod\u001b[39;00m\n\u001b[1;32m      <a href='vscode-notebook-cell://wsl%2Bubuntu/home/angel/Temp/%E6%95%B0%E6%8D%AE%E5%88%86%E6%9E%90/tutorial.%E5%87%BD%E6%95%B0.ipynb#Y114sdnNjb2RlLXJlbW90ZQ%3D%3D?line=8'>9</a>\u001b[0m mymod\u001b[39m.\u001b[39mmyfun()\u001b[39m#myfun被调用\u001b[39;00m\n",
      "\u001b[0;31mModuleNotFoundError\u001b[0m: No module named 'mymod'"
     ]
    }
   ],
   "source": [
    "#自定义模块的编写\n",
    "#两个在同一个目录下可以直接import导入\n",
    "#实例：\n",
    "#mymod.py\n",
    "def myfun():\n",
    "    print(\"myfun被调用\")\n",
    "#test.py\n",
    "import mymod\n",
    "mymod.myfun()#myfun被调用"
   ]
  },
  {
   "cell_type": "code",
   "execution_count": 4,
   "metadata": {},
   "outputs": [
    {
     "name": "stdout",
     "output_type": "stream",
     "text": [
      "('_abc', '_ast', '_codecs', '_collections', '_functools', '_imp', '_io', '_locale', '_operator', '_signal', '_sre', '_stat', '_string', '_symtable', '_thread', '_tracemalloc', '_warnings', '_weakref', 'atexit', 'builtins', 'errno', 'faulthandler', 'gc', 'itertools', 'marshal', 'posix', 'pwd', 'sys', 'time', 'xxsubtype')\n"
     ]
    }
   ],
   "source": [
    "#如果模块不在同一个目录下，模块搜索路径：\n",
    "#import 模块名 #对应模块名.py去哪儿找\n",
    "#查找的顺序：\n",
    "#1.内置模块 sys.builtin_module_names\n",
    "import sys\n",
    "print(sys.builtin_module_names)\n",
    "#2.sys.path列表中的路径\n",
    "#3.当前目录"
   ]
  },
  {
   "cell_type": "code",
   "execution_count": null,
   "metadata": {},
   "outputs": [],
   "source": [
    "#上面讲到sys.path的路径\n",
    "#PYTHONPATH环境变量\n",
    "#此环境变量的值会在python的解释器启动时自动加载到sys.path列表中\n",
    "#export PYTHONPATH=/home/tarena/aid1808/python/day16 #linux可以如此设置路径\n",
    "#linux用命令printev查看所有的环境变量 "
   ]
  },
  {
   "cell_type": "code",
   "execution_count": null,
   "metadata": {},
   "outputs": [],
   "source": [
    "#模块的属性：\n",
    "#__name__属性\n",
    "#作用：记录模块的名字\n",
    "#1.对于被导入模块，模块名为去掉路径前缀和.py后缀的文件名\n",
    "#2.对于被执行的主模块，模块名为__main__\n",
    "#作用：1.记录模块的名字 2.判断模块是被导入还是被执行\n",
    "\n",
    "#__doc__属性 用来绑定模块的文档字符串 模块的文档字符串是模块中第一行出现的没给赋值给变量的字符串\n",
    "print(xx.__doc__)\n",
    "\n",
    "#__all__属性 当使用from import语句导入模块时，只能导入__all__列表中的属性\n",
    "\n",
    "#__file__属性 用来记录模块对应的文件路径\n",
    "\n",
    "#模块的隐藏属性\n",
    "#模块中以单下划线开头的属性，不会被from import语句导入其他模块"
   ]
  },
  {
   "cell_type": "code",
   "execution_count": null,
   "metadata": {},
   "outputs": [],
   "source": [
    "#包（模块包）package\n",
    "#包的定义：包是将模块以文件夹的组织形式进行分组管理的方法\n",
    "#包的作用：1.将模块分类管理 2.解决模块重名问题3.可以在需要时加载一个或部分模块而不是全部模块\n",
    "#包里都有一个__init__.py文件，这个文件是必须的，否则这个文件夹就不是一个包\n",
    "\n",
    "#包的加载：\n",
    "#import 包名 [as 别名]   import包名.模块名 [as 别名]   import包名.子包名.模块名 [as 别名]\n",
    "#from 包名 import 模块名 [as 别名]   from 包名.子包名 import 模块名 [as 别名]  from 包名.模块名 import 变量名 [as 别名]\n",
    "##需要注意不能从包名import子包名 \n",
    "\n",
    "#包内的__init__.py文件\n",
    "#作用：1.在内部填写包的文档字符串 2.加载此包所以来的一些模块和其他包\n",
    "\n",
    "#__init__.py内的__all__属性\n",
    "#作用：用来记录哪儿些包需要导入，当用from包import *语句导入模块时，只查找__all__中所列出的模块\n",
    "#__all__属性只在from import语句中起作用，对import语句无效\n",
    "\n",
    "#包的加载途径：\n",
    "#同模块相同，设置方法：\n",
    "#1.可以设置sys.path\n",
    "#2.可以设置PYTHONPATH环境变量\n"
   ]
  }
 ],
 "metadata": {
  "kernelspec": {
   "display_name": "FUN",
   "language": "python",
   "name": "python3"
  },
  "language_info": {
   "codemirror_mode": {
    "name": "ipython",
    "version": 3
   },
   "file_extension": ".py",
   "mimetype": "text/x-python",
   "name": "python",
   "nbconvert_exporter": "python",
   "pygments_lexer": "ipython3",
   "version": "3.10.9"
  }
 },
 "nbformat": 4,
 "nbformat_minor": 2
}
